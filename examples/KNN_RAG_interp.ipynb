{
  "nbformat": 4,
  "nbformat_minor": 0,
  "metadata": {
    "colab": {
      "provenance": [],
      "gpuType": "T4"
    },
    "kernelspec": {
      "name": "python3",
      "display_name": "Python 3"
    },
    "language_info": {
      "codemirror_mode": {
          "name": "ipython",
          "version": 3
        },
        "file_extension": ".py",
        "mimetype": "text/x-python",
        "name": "python",
        "nbconvert_exporter": "python",
        "pygments_lexer": "ipython3"
    },
    "accelerator": "GPU"
  },
  "cells": [
    {
      "cell_type": "code",
      "execution_count": null,
      "metadata": {
        "id": "aXqbhzKyh3I7"
      },
      "outputs": [],
      "source": [
        "!pip install -U sentence-transformers -q\n",
        "!pip install git+https://github.com/Bots-Avatar/inseq2 -q\n",
        "!pip install git+https://github.com/Bots-Avatar/ExplainitAll -q"
      ]
    },
    {
      "cell_type": "code",
      "source": [
        "from explainitall.QA.interp_qa.KNNWithGenerative import FredStruct, PromptBot\n",
        "from explainitall.QA.extractive_qa_sbert.SVDBert import SVDBertModel\n",
        "from explainitall.QA.extractive_qa_sbert.QABotsBase import cos_dist\n",
        "from sklearn.neighbors import KNeighborsClassifier\n",
        "from sentence_transformers import SentenceTransformer\n",
        "import gensim\n",
        "from inseq import load_model\n",
        "from explainitall.gpt_like_interp import viz\n",
        "from explainitall.gpt_like_interp import dl\n",
        "from explainitall.gpt_like_interp import interp"
      ],
      "metadata": {
        "id": "aba3N6uRpmy0"
      },
      "execution_count": null,
      "outputs": []
    },
    {
      "cell_type": "code",
      "source": [
        "def load_nlp_model(nlp_model_url):\n",
        "    nlp_model_path = dl.DownloadManager.load_zip(nlp_model_url)\n",
        "    return gensim.models.KeyedVectors.load_word2vec_format(nlp_model_path, binary=True)\n",
        "\n",
        "# 'ID': 180\n",
        "# 'Размер вектора': 300\n",
        "# 'Корпус': 'Russian National Corpus'\n",
        "# 'Размер словаря': 189193\n",
        "# 'Алгоритм': 'Gensim Continuous Bag-of-Words'\n",
        "# 'Лемматизация': True\n",
        "\n",
        "nlp_model = load_nlp_model ('http://vectors.nlpl.eu/repository/20/180.zip')"
      ],
      "metadata": {
        "id": "IPrg310VtVNy"
      },
      "execution_count": null,
      "outputs": []
    },
    {
      "cell_type": "code",
      "source": [
        "model_path = \"sberbank-ai/rugpt3small_based_on_gpt2\""
      ],
      "metadata": {
        "id": "Z_WDkdpKtcd8"
      },
      "execution_count": 4,
      "outputs": []
    },
    {
      "cell_type": "code",
      "source": [
        "def load_gpt_model(gpt_model_name):\n",
        "    return load_model(model=gpt_model_name,\n",
        "                           attribution_method=\"integrated_gradients\")\n",
        "\n",
        "# 'Фреймворк': 'transformers'\n",
        "# 'Тренировочные токены': '80 млрд'\n",
        "# 'Размер контекста': 2048\n",
        "\n",
        "gpt_model = load_gpt_model(model_path)"
      ],
      "metadata": {
        "id": "E7jniFg2thv4"
      },
      "execution_count": null,
      "outputs": []
    },
    {
      "cell_type": "code",
      "source": [
        "import re\n",
        "\n",
        "def clean_string(text):\n",
        "    \"\"\"\n",
        "    Очистка строки\n",
        "    \"\"\"\n",
        "    seq = text.replace('\\n',' ')\n",
        "    r_char = re.compile('[^A-zА-яЁё0-9\": ]')\n",
        "    r_spaces = re.compile(r\"\\s+\")\n",
        "    seq = r_char.sub(' ', seq)\n",
        "    seq = r_spaces.sub(' ', seq).strip()\n",
        "    return seq.lower()\n",
        "\n",
        "def value_interp(v):\n",
        "  if str(v) == 'nan':\n",
        "    return 'нулевой'\n",
        "  if v < 0.1:\n",
        "    return 'незначительной'\n",
        "  if v < 0.3:\n",
        "    return 'очень малой'\n",
        "  if v < 0.45:\n",
        "    return 'малой'\n",
        "  if v < 0.65:\n",
        "    return 'средней'\n",
        "  if v < 0.85:\n",
        "    return 'выше средней'\n",
        "  else:\n",
        "    return 'очень большой'\n",
        "\n",
        "def interp_cl(df):\n",
        "  ret = []\n",
        "  for index, row in df.iterrows():\n",
        "    for num_col, col in enumerate(df.columns):\n",
        "        if num_col != 0:\n",
        "          value = row[col]\n",
        "\n",
        "          description = f'Кластер \"{row[df.columns[0]]}\" влияет на генерацию кластера \"{col}\" с {value_interp(value)} силой.'\n",
        "          ret += [description]\n",
        "\n",
        "  return ret\n",
        ""
      ],
      "metadata": {
        "id": "RPz6kPJTtzND"
      },
      "execution_count": 71,
      "outputs": []
    },
    {
      "cell_type": "code",
      "source": [
        "clusters_discr = [\n",
        "    {'name': 'Животные', 'centroid': ['собака', 'кошка', 'заяц'], 'top_k': 140},\n",
        "    {'name': 'Лекарства', 'centroid': ['уколы', 'таблетки', 'микстуры'], 'top_k': 160},\n",
        "    {'name': 'Болезни', 'centroid': ['простуда', 'орви', 'орз', 'грипп'], 'top_k': 20},\n",
        "    {'name': 'Аллергия', 'centroid': ['аллергия'], 'top_k': 20}\n",
        "]\n",
        "\n",
        "explainer = interp.ExplainerGPT2(gpt_model=gpt_model, nlp_model=nlp_model)\n",
        "\n",
        "\n",
        "input_text = 'у кошки грипп и аллергия на антибиотбиотики вопрос: чем лечить кошку? ответ:'\n",
        "generated_text = 'лечите ее уколами'\n",
        "\n",
        "expl_data = explainer.interpret(\n",
        "    input_texts=input_text,\n",
        "    generated_texts=generated_text,\n",
        "    clusters_description=clusters_discr,\n",
        "    batch_size=50,\n",
        "    steps=34,\n",
        ")"
      ],
      "metadata": {
        "colab": {
          "base_uri": "https://localhost:8080/"
        },
        "id": "ul803--vuCsS",
        "outputId": "249a5409-bab2-4107-c874-2df4ab4359d3"
      },
      "execution_count": 9,
      "outputs": [
        {
          "output_type": "stream",
          "name": "stderr",
          "text": [
            "Attributing with integrated_gradients...: 100%|██████████| 26/26 [00:01<00:00,  4.54it/s]\n"
          ]
        }
      ]
    },
    {
      "cell_type": "code",
      "source": [
        "# Результат интерпретации\n",
        "imp_df_cl = expl_data.cluster_imp_aggr_df\n",
        "cl_desc = interp_cl(imp_df_cl)"
      ],
      "metadata": {
        "id": "XxJyiEP9vVDv"
      },
      "execution_count": 72,
      "outputs": []
    },
    {
      "cell_type": "code",
      "source": [
        "path_sbert = 'FractalGPT/SbertSVDDistil'\n",
        "sbert = SentenceTransformer(path_sbert)\n",
        "sbert[0].auto_model = SVDBertModel.from_pretrained(path_sbert)"
      ],
      "metadata": {
        "id": "KoBhDgazwMBQ"
      },
      "execution_count": null,
      "outputs": []
    },
    {
      "cell_type": "code",
      "source": [
        "fred = FredStruct()"
      ],
      "metadata": {
        "id": "debKPcO4wdad"
      },
      "execution_count": null,
      "outputs": []
    },
    {
      "cell_type": "code",
      "source": [
        "cl_desc"
      ],
      "metadata": {
        "colab": {
          "base_uri": "https://localhost:8080/"
        },
        "id": "iaZDK_iWwxLL",
        "outputId": "032a1eff-43e8-4ce6-a0fe-f49d749e43a2"
      },
      "execution_count": 73,
      "outputs": [
        {
          "output_type": "execute_result",
          "data": {
            "text/plain": [
              "['Кластер \"Аллергия\" влияет на генерацию кластера \"Лекарства\" с выше средней силой.',\n",
              " 'Кластер \"Болезни\" влияет на генерацию кластера \"Лекарства\" с выше средней силой.',\n",
              " 'Кластер \"Животные\" влияет на генерацию кластера \"Лекарства\" с очень большой силой.',\n",
              " 'Кластер \"Лекарства\" влияет на генерацию кластера \"Лекарства\" с незначительной силой.']"
            ]
          },
          "metadata": {},
          "execution_count": 73
        }
      ]
    },
    {
      "cell_type": "code",
      "source": [
        "clean = [clean_string(cl_data) for cl_data in cl_desc]\n",
        "vects_x = sbert.encode(clean)\n",
        "m = vects_x.mean(axis=0)\n",
        "s = vects_x.std(axis=0)\n",
        "knn_vects_x = (vects_x - m)/s\n",
        "knn = KNeighborsClassifier(metric=cos_dist)\n",
        "knn.fit(knn_vects_x, cl_desc)\n",
        "\n",
        "interp_bot = PromptBot(knn, sbert, fred, cl_desc, device='cpu')"
      ],
      "metadata": {
        "id": "OT7tJxeVwpRX"
      },
      "execution_count": 74,
      "outputs": []
    },
    {
      "cell_type": "code",
      "source": [
        "ans = interp_bot.get_answers('Как влияет аллергия на назначение лекарства', top_k=3)\n",
        "ans.split('.')[0]"
      ],
      "metadata": {
        "colab": {
          "base_uri": "https://localhost:8080/",
          "height": 36
        },
        "id": "kl0pEqje0qPy",
        "outputId": "ce8a27a2-6d37-4287-f9b9-284db74e3e4b"
      },
      "execution_count": 78,
      "outputs": [
        {
          "output_type": "execute_result",
          "data": {
            "text/plain": [
              "'Кластер \"Аллергия\" влияет на генерацию кластера \"Лекарства\" с выше средней силой'"
            ],
            "application/vnd.google.colaboratory.intrinsic+json": {
              "type": "string"
            }
          },
          "metadata": {},
          "execution_count": 78
        }
      ]
    },
    {
      "cell_type": "code",
      "source": [
        "ans = interp_bot.get_answers('Как влияет кластер болезни на кластер лекарства', top_k=3)\n",
        "ans.split('.')[0]"
      ],
      "metadata": {
        "colab": {
          "base_uri": "https://localhost:8080/",
          "height": 36
        },
        "id": "0CHTOM0V3FT6",
        "outputId": "d58af991-a2af-4a27-b9b6-8949197ed02e"
      },
      "execution_count": 79,
      "outputs": [
        {
          "output_type": "execute_result",
          "data": {
            "text/plain": [
              "'Кластер \"Болезни\" влияет на кластер \"Лекарства\" с выше средней силой'"
            ],
            "application/vnd.google.colaboratory.intrinsic+json": {
              "type": "string"
            }
          },
          "metadata": {},
          "execution_count": 79
        }
      ]
    }
  ]
}
