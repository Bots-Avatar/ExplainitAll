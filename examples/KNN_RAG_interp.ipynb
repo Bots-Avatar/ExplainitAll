{
 "cells": [
  {
   "cell_type": "code",
   "execution_count": 2,
   "metadata": {
    "ExecuteTime": {
     "end_time": "2024-03-31T23:37:41.442738Z",
     "start_time": "2024-03-31T23:37:41.440452Z"
    },
    "collapsed": false,
    "jupyter": {
     "outputs_hidden": false
    }
   },
   "outputs": [
    {
     "name": "stdout",
     "output_type": "stream",
     "text": [
      "\u001b[33mWARNING: typer 0.12.0 does not provide the extra 'all'\u001b[0m\u001b[33m\n",
      "\u001b[0m\u001b[33mWARNING: Running pip as the 'root' user can result in broken permissions and conflicting behaviour with the system package manager. It is recommended to use a virtual environment instead: https://pip.pypa.io/warnings/venv\u001b[0m\u001b[33m\n",
      "\u001b[0m"
     ]
    }
   ],
   "source": [
    "!pip install git+https://github.com/Bots-Avatar/ExplainitAll -q"
   ]
  },
  {
   "cell_type": "code",
   "execution_count": 10,
   "metadata": {
    "ExecuteTime": {
     "end_time": "2024-03-31T23:37:38.390677Z",
     "start_time": "2024-03-31T23:37:38.384997Z"
    },
    "id": "aXqbhzKyh3I7"
   },
   "outputs": [],
   "source": [
    "import os\n",
    "# os.environ['TEST_MODE_ON_LOW_SPEC_PC'] = 'True'"
   ]
  },
  {
   "cell_type": "code",
   "execution_count": 1,
   "metadata": {
    "ExecuteTime": {
     "end_time": "2024-04-05T18:27:05.551805Z",
     "start_time": "2024-04-05T18:27:00.941860Z"
    },
    "id": "aba3N6uRpmy0"
   },
   "outputs": [
    {
     "name": "stderr",
     "output_type": "stream",
     "text": [
      "[nltk_data] Downloading package punkt to /root/nltk_data...\n",
      "[nltk_data]   Package punkt is already up-to-date!\n"
     ]
    }
   ],
   "source": [
    "from explainitall.QA.interp_qa.KNNWithGenerative import FredStruct, PromptBot\n",
    "from explainitall.QA.extractive_qa_sbert.SVDBert import SVDBertModel\n",
    "from explainitall.QA.extractive_qa_sbert.QABotsBase import cos_dist\n",
    "from explainitall.gpt_like_interp.downloader import DownloadManager\n",
    "\n",
    "from sklearn.neighbors import KNeighborsClassifier\n",
    "from sentence_transformers import SentenceTransformer\n",
    "import gensim\n",
    "from inseq import load_model\n",
    "from explainitall.gpt_like_interp import interp\n",
    "from explainitall.gui.interface import set_verbosity_error\n",
    "set_verbosity_error()"
   ]
  },
  {
   "cell_type": "code",
   "execution_count": 2,
   "metadata": {
    "ExecuteTime": {
     "end_time": "2024-04-05T18:28:06.598120Z",
     "start_time": "2024-04-05T18:28:05.680831Z"
    },
    "id": "IPrg310VtVNy"
   },
   "outputs": [
    {
     "name": "stderr",
     "output_type": "stream",
     "text": [
      "Downloading: /root/.cache/180_zip: 100%|██████████| 462M/462M [00:26<00:00, 18.0MiB/s]   \n",
      "Extracting: /root/.cache/180_zip_data: 100%|██████████| 4/4 [00:05<00:00,  1.26s/it]\n"
     ]
    }
   ],
   "source": [
    "def load_nlp_model(nlp_model_url):\n",
    "    nlp_model_path = DownloadManager.load_zip(nlp_model_url)\n",
    "    return gensim.models.KeyedVectors.load_word2vec_format(nlp_model_path, binary=True)\n",
    "\n",
    "# 'ID': 180\n",
    "# 'Размер вектора': 300\n",
    "# 'Корпус': 'Russian National Corpus'\n",
    "# 'Размер словаря': 189193\n",
    "# 'Алгоритм': 'Gensim Continuous Bag-of-Words'\n",
    "# 'Лемматизация': True\n",
    "\n",
    "nlp_model = load_nlp_model ('http://vectors.nlpl.eu/repository/20/180.zip')"
   ]
  },
  {
   "cell_type": "code",
   "execution_count": 4,
   "metadata": {
    "ExecuteTime": {
     "end_time": "2024-04-05T18:28:07.239780Z",
     "start_time": "2024-04-05T18:28:07.237071Z"
    },
    "id": "Z_WDkdpKtcd8"
   },
   "outputs": [],
   "source": [
    "model_path = \"sberbank-ai/rugpt3small_based_on_gpt2\""
   ]
  },
  {
   "cell_type": "code",
   "execution_count": 5,
   "metadata": {
    "ExecuteTime": {
     "end_time": "2024-04-05T18:28:12.419667Z",
     "start_time": "2024-04-05T18:28:08.710629Z"
    },
    "id": "E7jniFg2thv4"
   },
   "outputs": [
    {
     "data": {
      "application/vnd.jupyter.widget-view+json": {
       "model_id": "652f3a84abc04530b5e87140d7366f31",
       "version_major": 2,
       "version_minor": 0
      },
      "text/plain": [
       "config.json:   0%|          | 0.00/720 [00:00<?, ?B/s]"
      ]
     },
     "metadata": {},
     "output_type": "display_data"
    },
    {
     "data": {
      "application/vnd.jupyter.widget-view+json": {
       "model_id": "2cd0fe2b22e9405b829fe0311d4997a8",
       "version_major": 2,
       "version_minor": 0
      },
      "text/plain": [
       "pytorch_model.bin:   0%|          | 0.00/551M [00:00<?, ?B/s]"
      ]
     },
     "metadata": {},
     "output_type": "display_data"
    },
    {
     "data": {
      "application/vnd.jupyter.widget-view+json": {
       "model_id": "3cab3fff6c4441b284824c1af00a1f17",
       "version_major": 2,
       "version_minor": 0
      },
      "text/plain": [
       "tokenizer_config.json:   0%|          | 0.00/1.25k [00:00<?, ?B/s]"
      ]
     },
     "metadata": {},
     "output_type": "display_data"
    },
    {
     "data": {
      "application/vnd.jupyter.widget-view+json": {
       "model_id": "d5de045bf14e4d45a9403bab7c711a2b",
       "version_major": 2,
       "version_minor": 0
      },
      "text/plain": [
       "vocab.json:   0%|          | 0.00/1.71M [00:00<?, ?B/s]"
      ]
     },
     "metadata": {},
     "output_type": "display_data"
    },
    {
     "data": {
      "application/vnd.jupyter.widget-view+json": {
       "model_id": "c82bff84bea243c6b04cd4be6653aa1f",
       "version_major": 2,
       "version_minor": 0
      },
      "text/plain": [
       "merges.txt:   0%|          | 0.00/1.27M [00:00<?, ?B/s]"
      ]
     },
     "metadata": {},
     "output_type": "display_data"
    },
    {
     "data": {
      "application/vnd.jupyter.widget-view+json": {
       "model_id": "4ce80a25f9574e3bb6067190d56013ae",
       "version_major": 2,
       "version_minor": 0
      },
      "text/plain": [
       "special_tokens_map.json:   0%|          | 0.00/574 [00:00<?, ?B/s]"
      ]
     },
     "metadata": {},
     "output_type": "display_data"
    }
   ],
   "source": [
    "def load_gpt_model(gpt_model_name):\n",
    "    return load_model(model=gpt_model_name,\n",
    "                           attribution_method=\"integrated_gradients\")\n",
    "\n",
    "# 'Фреймворк': 'transformers'\n",
    "# 'Тренировочные токены': '80 млрд'\n",
    "# 'Размер контекста': 2048\n",
    "\n",
    "gpt_model = load_gpt_model(model_path)"
   ]
  },
  {
   "cell_type": "code",
   "execution_count": 6,
   "metadata": {
    "ExecuteTime": {
     "end_time": "2024-04-05T18:28:17.901542Z",
     "start_time": "2024-04-05T18:28:17.894641Z"
    },
    "id": "RPz6kPJTtzND"
   },
   "outputs": [],
   "source": [
    "import re\n",
    "\n",
    "def clean_string(text):\n",
    "    \"\"\"\n",
    "    Очистка строки\n",
    "    \"\"\"\n",
    "    seq = text.replace('\\n',' ')\n",
    "    r_char = re.compile('[^A-zА-яЁё0-9\": ]')\n",
    "    r_spaces = re.compile(r\"\\s+\")\n",
    "    seq = r_char.sub(' ', seq)\n",
    "    seq = r_spaces.sub(' ', seq).strip()\n",
    "    return seq.lower()\n",
    "\n",
    "def value_interp(v):\n",
    "  if str(v) == 'nan':\n",
    "    return 'нулевой'\n",
    "  if v < 0.1:\n",
    "    return 'незначительной'\n",
    "  if v < 0.3:\n",
    "    return 'очень малой'\n",
    "  if v < 0.45:\n",
    "    return 'малой'\n",
    "  if v < 0.65:\n",
    "    return 'средней'\n",
    "  if v < 0.85:\n",
    "    return 'выше средней'\n",
    "  else:\n",
    "    return 'очень большой'\n",
    "\n",
    "def interp_cl(df):\n",
    "  ret = []\n",
    "  for index, row in df.iterrows():\n",
    "    for num_col, col in enumerate(df.columns):\n",
    "        if num_col != 0:\n",
    "          value = row[col]\n",
    "\n",
    "          description = f'Кластер \"{row[df.columns[0]]}\" влияет на генерацию кластера \"{col}\" с {value_interp(value)} силой.'\n",
    "          ret += [description]\n",
    "\n",
    "  return ret\n"
   ]
  },
  {
   "cell_type": "code",
   "execution_count": 7,
   "metadata": {
    "ExecuteTime": {
     "end_time": "2024-04-05T18:29:15.085325Z",
     "start_time": "2024-04-05T18:28:27.400858Z"
    },
    "colab": {
     "base_uri": "https://localhost:8080/"
    },
    "id": "ul803--vuCsS",
    "outputId": "249a5409-bab2-4107-c874-2df4ab4359d3"
   },
   "outputs": [
    {
     "name": "stderr",
     "output_type": "stream",
     "text": [
      "Attributing with integrated_gradients...: 100%|██████████| 26/26 [00:01<00:00,  3.64it/s]\n"
     ]
    }
   ],
   "source": [
    "clusters_discr = [\n",
    "    {'name': 'Животные', 'centroid': ['собака', 'кошка', 'заяц'], 'top_k': 140},\n",
    "    {'name': 'Лекарства', 'centroid': ['уколы', 'таблетки', 'микстуры'], 'top_k': 160},\n",
    "    {'name': 'Болезни', 'centroid': ['простуда', 'орви', 'орз', 'грипп'], 'top_k': 20},\n",
    "    {'name': 'Аллергия', 'centroid': ['аллергия'], 'top_k': 20}\n",
    "]\n",
    "\n",
    "explainer = interp.ExplainerGPT2(gpt_model=gpt_model, nlp_model=nlp_model)\n",
    "\n",
    "\n",
    "input_text = 'у кошки грипп и аллергия на антибиотбиотики вопрос: чем лечить кошку? ответ:'\n",
    "generated_text = 'лечите ее уколами'\n",
    "\n",
    "expl_data = explainer.interpret(\n",
    "    input_texts=input_text,\n",
    "    generated_texts=generated_text,\n",
    "    clusters_description=clusters_discr,\n",
    "    batch_size=50,\n",
    "    steps=34,\n",
    ")"
   ]
  },
  {
   "cell_type": "code",
   "execution_count": 8,
   "metadata": {
    "ExecuteTime": {
     "end_time": "2024-04-05T18:29:26.635880Z",
     "start_time": "2024-04-05T18:29:23.917315Z"
    },
    "id": "XxJyiEP9vVDv"
   },
   "outputs": [],
   "source": [
    "# Результат интерпретации\n",
    "imp_df_cl = expl_data.cluster_imp_aggr_df\n",
    "cl_desc = interp_cl(imp_df_cl)"
   ]
  },
  {
   "cell_type": "code",
   "execution_count": 11,
   "metadata": {
    "ExecuteTime": {
     "end_time": "2024-03-31T23:38:07.420913Z",
     "start_time": "2024-03-31T23:38:02.557049Z"
    },
    "id": "KoBhDgazwMBQ"
   },
   "outputs": [
    {
     "data": {
      "application/vnd.jupyter.widget-view+json": {
       "model_id": "090dad482d6540f7b1e009dc85020832",
       "version_major": 2,
       "version_minor": 0
      },
      "text/plain": [
       "tokenizer_config.json:   0%|          | 0.00/20.1k [00:00<?, ?B/s]"
      ]
     },
     "metadata": {},
     "output_type": "display_data"
    },
    {
     "data": {
      "application/vnd.jupyter.widget-view+json": {
       "model_id": "064141bcb3584cb39ff590e5ce484570",
       "version_major": 2,
       "version_minor": 0
      },
      "text/plain": [
       "vocab.json:   0%|          | 0.00/1.61M [00:00<?, ?B/s]"
      ]
     },
     "metadata": {},
     "output_type": "display_data"
    },
    {
     "data": {
      "application/vnd.jupyter.widget-view+json": {
       "model_id": "e873897b1ccd485b9d0876ca71195b93",
       "version_major": 2,
       "version_minor": 0
      },
      "text/plain": [
       "merges.txt:   0%|          | 0.00/1.27M [00:00<?, ?B/s]"
      ]
     },
     "metadata": {},
     "output_type": "display_data"
    },
    {
     "data": {
      "application/vnd.jupyter.widget-view+json": {
       "model_id": "482cc40c4cfa4b89a23ba96da504b685",
       "version_major": 2,
       "version_minor": 0
      },
      "text/plain": [
       "tokenizer.json:   0%|          | 0.00/3.76M [00:00<?, ?B/s]"
      ]
     },
     "metadata": {},
     "output_type": "display_data"
    },
    {
     "data": {
      "application/vnd.jupyter.widget-view+json": {
       "model_id": "cd049c6490bd409685597d5bc656d5d6",
       "version_major": 2,
       "version_minor": 0
      },
      "text/plain": [
       "added_tokens.json:   0%|          | 0.00/2.74k [00:00<?, ?B/s]"
      ]
     },
     "metadata": {},
     "output_type": "display_data"
    },
    {
     "data": {
      "application/vnd.jupyter.widget-view+json": {
       "model_id": "441592f0ae92449c99cbcf7889e9a1f7",
       "version_major": 2,
       "version_minor": 0
      },
      "text/plain": [
       "special_tokens_map.json:   0%|          | 0.00/217 [00:00<?, ?B/s]"
      ]
     },
     "metadata": {},
     "output_type": "display_data"
    },
    {
     "data": {
      "application/vnd.jupyter.widget-view+json": {
       "model_id": "4d50a3e9821842a89461e171ec11f631",
       "version_major": 2,
       "version_minor": 0
      },
      "text/plain": [
       "config.json:   0%|          | 0.00/846 [00:00<?, ?B/s]"
      ]
     },
     "metadata": {},
     "output_type": "display_data"
    },
    {
     "data": {
      "application/vnd.jupyter.widget-view+json": {
       "model_id": "bd953b28340c4af4b1089c933da603ac",
       "version_major": 2,
       "version_minor": 0
      },
      "text/plain": [
       "model.safetensors.index.json:   0%|          | 0.00/50.6k [00:00<?, ?B/s]"
      ]
     },
     "metadata": {},
     "output_type": "display_data"
    },
    {
     "data": {
      "application/vnd.jupyter.widget-view+json": {
       "model_id": "e6bcc4399d0b40b3ab48b7bd5a697ef9",
       "version_major": 2,
       "version_minor": 0
      },
      "text/plain": [
       "Downloading shards:   0%|          | 0/2 [00:00<?, ?it/s]"
      ]
     },
     "metadata": {},
     "output_type": "display_data"
    },
    {
     "data": {
      "application/vnd.jupyter.widget-view+json": {
       "model_id": "87fff118497f489cab05454efccf172c",
       "version_major": 2,
       "version_minor": 0
      },
      "text/plain": [
       "model-00001-of-00002.safetensors:   0%|          | 0.00/4.99G [00:00<?, ?B/s]"
      ]
     },
     "metadata": {},
     "output_type": "display_data"
    },
    {
     "data": {
      "application/vnd.jupyter.widget-view+json": {
       "model_id": "0ea68b0773e84198bbde13968794c43b",
       "version_major": 2,
       "version_minor": 0
      },
      "text/plain": [
       "model-00002-of-00002.safetensors:   0%|          | 0.00/1.97G [00:00<?, ?B/s]"
      ]
     },
     "metadata": {},
     "output_type": "display_data"
    },
    {
     "data": {
      "application/vnd.jupyter.widget-view+json": {
       "model_id": "dfefff8bbf694201a35ba66fcaca5314",
       "version_major": 2,
       "version_minor": 0
      },
      "text/plain": [
       "Loading checkpoint shards:   0%|          | 0/2 [00:00<?, ?it/s]"
      ]
     },
     "metadata": {},
     "output_type": "display_data"
    },
    {
     "data": {
      "application/vnd.jupyter.widget-view+json": {
       "model_id": "175e575e657f4a4fa9f68c94d3812b96",
       "version_major": 2,
       "version_minor": 0
      },
      "text/plain": [
       "generation_config.json:   0%|          | 0.00/142 [00:00<?, ?B/s]"
      ]
     },
     "metadata": {},
     "output_type": "display_data"
    }
   ],
   "source": [
    "path_sbert = 'FractalGPT/SbertSVDDistil'\n",
    "sbert = SentenceTransformer(path_sbert)\n",
    "sbert[0].auto_model = SVDBertModel.from_pretrained(path_sbert)\n",
    "\n",
    "if os.getenv('TEST_MODE_ON_LOW_SPEC_PC') == 'True':\n",
    "    fred = FredStruct('t5-small' )\n",
    "else:\n",
    "    fred = FredStruct('FractalGPT/FRED-T5-Interp')"
   ]
  },
  {
   "cell_type": "code",
   "execution_count": 12,
   "metadata": {
    "ExecuteTime": {
     "end_time": "2024-03-31T23:38:09.020464Z",
     "start_time": "2024-03-31T23:38:09.013877Z"
    },
    "colab": {
     "base_uri": "https://localhost:8080/"
    },
    "id": "iaZDK_iWwxLL",
    "outputId": "032a1eff-43e8-4ce6-a0fe-f49d749e43a2"
   },
   "outputs": [
    {
     "data": {
      "text/plain": [
       "['Кластер \"Аллергия\" влияет на генерацию кластера \"Лекарства\" с выше средней силой.',\n",
       " 'Кластер \"Болезни\" влияет на генерацию кластера \"Лекарства\" с выше средней силой.',\n",
       " 'Кластер \"Животные\" влияет на генерацию кластера \"Лекарства\" с средней силой.',\n",
       " 'Кластер \"Лекарства\" влияет на генерацию кластера \"Лекарства\" с нулевой силой.']"
      ]
     },
     "execution_count": 12,
     "metadata": {},
     "output_type": "execute_result"
    }
   ],
   "source": [
    "cl_desc"
   ]
  },
  {
   "cell_type": "code",
   "execution_count": 13,
   "metadata": {
    "ExecuteTime": {
     "end_time": "2024-03-31T23:38:12.308493Z",
     "start_time": "2024-03-31T23:38:12.268185Z"
    },
    "id": "OT7tJxeVwpRX"
   },
   "outputs": [],
   "source": [
    "clean = [clean_string(cl_data) for cl_data in cl_desc]\n",
    "vects_x = sbert.encode(clean)\n",
    "m = vects_x.mean(axis=0)\n",
    "s = vects_x.std(axis=0)\n",
    "knn_vects_x = (vects_x - m)/s\n",
    "knn = KNeighborsClassifier(metric=cos_dist)\n",
    "knn.fit(knn_vects_x, cl_desc)\n",
    "\n",
    "interp_bot = PromptBot(knn, sbert, fred, cl_desc, device='cpu')"
   ]
  },
  {
   "cell_type": "code",
   "execution_count": 14,
   "metadata": {
    "ExecuteTime": {
     "end_time": "2024-03-31T23:38:17.352373Z",
     "start_time": "2024-03-31T23:38:13.512955Z"
    },
    "colab": {
     "base_uri": "https://localhost:8080/",
     "height": 36
    },
    "id": "kl0pEqje0qPy",
    "outputId": "ce8a27a2-6d37-4287-f9b9-284db74e3e4b"
   },
   "outputs": [
    {
     "data": {
      "text/plain": [
       "'Кластер \"Аллергия\" влияет на генерацию кластера \"Лекарства\" с выше средней силой'"
      ]
     },
     "execution_count": 14,
     "metadata": {},
     "output_type": "execute_result"
    }
   ],
   "source": [
    "ans = interp_bot.get_answers('Как влияет аллергия на назначение лекарства', top_k=3)\n",
    "ans.split('.')[0]"
   ]
  },
  {
   "cell_type": "code",
   "execution_count": 15,
   "metadata": {
    "ExecuteTime": {
     "end_time": "2024-03-31T23:38:18.961225Z",
     "start_time": "2024-03-31T23:38:17.354105Z"
    },
    "colab": {
     "base_uri": "https://localhost:8080/",
     "height": 36
    },
    "id": "0CHTOM0V3FT6",
    "outputId": "d58af991-a2af-4a27-b9b6-8949197ed02e"
   },
   "outputs": [
    {
     "data": {
      "text/plain": [
       "'Кластер \"Болезни\" влияет на кластер \"Лекарства\" с выше средней силой Кластер \"Аллергия\" влияет кластером \"Лекаря\" с нулевой силой'"
      ]
     },
     "execution_count": 15,
     "metadata": {},
     "output_type": "execute_result"
    }
   ],
   "source": [
    "ans = interp_bot.get_answers('Как влияет кластер болезни на кластер лекарства', top_k=3)\n",
    "ans.split('.')[0]"
   ]
  }
 ],
 "metadata": {
  "accelerator": "GPU",
  "colab": {
   "gpuType": "T4",
   "provenance": []
  },
  "kernelspec": {
   "display_name": "Python 3 (ipykernel)",
   "language": "python",
   "name": "python3"
  },
  "language_info": {
   "codemirror_mode": {
    "name": "ipython",
    "version": 3
   },
   "file_extension": ".py",
   "mimetype": "text/x-python",
   "name": "python",
   "nbconvert_exporter": "python",
   "pygments_lexer": "ipython3",
   "version": "3.10.13"
  }
 },
 "nbformat": 4,
 "nbformat_minor": 4
}
