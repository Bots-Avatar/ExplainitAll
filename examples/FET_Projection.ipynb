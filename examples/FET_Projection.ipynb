{
  "nbformat": 4,
  "nbformat_minor": 0,
  "metadata": {
    "colab": {
      "provenance": [],
      "gpuType": "T4"
    },
    "kernelspec": {
      "name": "python3",
      "display_name": "Python 3"
    },
    "language_info": {
      "name": "python"
    },
    "accelerator": "GPU",
    "widgets": {
      "application/vnd.jupyter.widget-state+json": {
        "f564f801a3834a91b1319c8db1c9dc2e": {
          "model_module": "@jupyter-widgets/controls",
          "model_name": "HBoxModel",
          "model_module_version": "1.5.0",
          "state": {
            "_dom_classes": [],
            "_model_module": "@jupyter-widgets/controls",
            "_model_module_version": "1.5.0",
            "_model_name": "HBoxModel",
            "_view_count": null,
            "_view_module": "@jupyter-widgets/controls",
            "_view_module_version": "1.5.0",
            "_view_name": "HBoxView",
            "box_style": "",
            "children": [
              "IPY_MODEL_97ca4b388a6645c19b80d8f080526031",
              "IPY_MODEL_6f720a542a19475c87c2aebfa9112868",
              "IPY_MODEL_00c6a76097fa4714b3a36c3ec383268c"
            ],
            "layout": "IPY_MODEL_23ebd9704fcb40e1beb33331dbe7a9b9"
          }
        },
        "97ca4b388a6645c19b80d8f080526031": {
          "model_module": "@jupyter-widgets/controls",
          "model_name": "HTMLModel",
          "model_module_version": "1.5.0",
          "state": {
            "_dom_classes": [],
            "_model_module": "@jupyter-widgets/controls",
            "_model_module_version": "1.5.0",
            "_model_name": "HTMLModel",
            "_view_count": null,
            "_view_module": "@jupyter-widgets/controls",
            "_view_module_version": "1.5.0",
            "_view_name": "HTMLView",
            "description": "",
            "description_tooltip": null,
            "layout": "IPY_MODEL_c29c7c41b0a541a3ad141553cd6ace0c",
            "placeholder": "​",
            "style": "IPY_MODEL_333f76c850044c7bb3d9e57ba8c88156",
            "value": "tokenizer_config.json: 100%"
          }
        },
        "6f720a542a19475c87c2aebfa9112868": {
          "model_module": "@jupyter-widgets/controls",
          "model_name": "FloatProgressModel",
          "model_module_version": "1.5.0",
          "state": {
            "_dom_classes": [],
            "_model_module": "@jupyter-widgets/controls",
            "_model_module_version": "1.5.0",
            "_model_name": "FloatProgressModel",
            "_view_count": null,
            "_view_module": "@jupyter-widgets/controls",
            "_view_module_version": "1.5.0",
            "_view_name": "ProgressView",
            "bar_style": "success",
            "description": "",
            "description_tooltip": null,
            "layout": "IPY_MODEL_2c39eb6db4cd44649054353e128bc375",
            "max": 1252,
            "min": 0,
            "orientation": "horizontal",
            "style": "IPY_MODEL_6aa6f10691554a62957f901b780b8135",
            "value": 1252
          }
        },
        "00c6a76097fa4714b3a36c3ec383268c": {
          "model_module": "@jupyter-widgets/controls",
          "model_name": "HTMLModel",
          "model_module_version": "1.5.0",
          "state": {
            "_dom_classes": [],
            "_model_module": "@jupyter-widgets/controls",
            "_model_module_version": "1.5.0",
            "_model_name": "HTMLModel",
            "_view_count": null,
            "_view_module": "@jupyter-widgets/controls",
            "_view_module_version": "1.5.0",
            "_view_name": "HTMLView",
            "description": "",
            "description_tooltip": null,
            "layout": "IPY_MODEL_39d45335fff74a66af3a95f122a391b4",
            "placeholder": "​",
            "style": "IPY_MODEL_0ce026ac10c346688dd28b91ad870b03",
            "value": " 1.25k/1.25k [00:00&lt;00:00, 92.5kB/s]"
          }
        },
        "23ebd9704fcb40e1beb33331dbe7a9b9": {
          "model_module": "@jupyter-widgets/base",
          "model_name": "LayoutModel",
          "model_module_version": "1.2.0",
          "state": {
            "_model_module": "@jupyter-widgets/base",
            "_model_module_version": "1.2.0",
            "_model_name": "LayoutModel",
            "_view_count": null,
            "_view_module": "@jupyter-widgets/base",
            "_view_module_version": "1.2.0",
            "_view_name": "LayoutView",
            "align_content": null,
            "align_items": null,
            "align_self": null,
            "border": null,
            "bottom": null,
            "display": null,
            "flex": null,
            "flex_flow": null,
            "grid_area": null,
            "grid_auto_columns": null,
            "grid_auto_flow": null,
            "grid_auto_rows": null,
            "grid_column": null,
            "grid_gap": null,
            "grid_row": null,
            "grid_template_areas": null,
            "grid_template_columns": null,
            "grid_template_rows": null,
            "height": null,
            "justify_content": null,
            "justify_items": null,
            "left": null,
            "margin": null,
            "max_height": null,
            "max_width": null,
            "min_height": null,
            "min_width": null,
            "object_fit": null,
            "object_position": null,
            "order": null,
            "overflow": null,
            "overflow_x": null,
            "overflow_y": null,
            "padding": null,
            "right": null,
            "top": null,
            "visibility": null,
            "width": null
          }
        },
        "c29c7c41b0a541a3ad141553cd6ace0c": {
          "model_module": "@jupyter-widgets/base",
          "model_name": "LayoutModel",
          "model_module_version": "1.2.0",
          "state": {
            "_model_module": "@jupyter-widgets/base",
            "_model_module_version": "1.2.0",
            "_model_name": "LayoutModel",
            "_view_count": null,
            "_view_module": "@jupyter-widgets/base",
            "_view_module_version": "1.2.0",
            "_view_name": "LayoutView",
            "align_content": null,
            "align_items": null,
            "align_self": null,
            "border": null,
            "bottom": null,
            "display": null,
            "flex": null,
            "flex_flow": null,
            "grid_area": null,
            "grid_auto_columns": null,
            "grid_auto_flow": null,
            "grid_auto_rows": null,
            "grid_column": null,
            "grid_gap": null,
            "grid_row": null,
            "grid_template_areas": null,
            "grid_template_columns": null,
            "grid_template_rows": null,
            "height": null,
            "justify_content": null,
            "justify_items": null,
            "left": null,
            "margin": null,
            "max_height": null,
            "max_width": null,
            "min_height": null,
            "min_width": null,
            "object_fit": null,
            "object_position": null,
            "order": null,
            "overflow": null,
            "overflow_x": null,
            "overflow_y": null,
            "padding": null,
            "right": null,
            "top": null,
            "visibility": null,
            "width": null
          }
        },
        "333f76c850044c7bb3d9e57ba8c88156": {
          "model_module": "@jupyter-widgets/controls",
          "model_name": "DescriptionStyleModel",
          "model_module_version": "1.5.0",
          "state": {
            "_model_module": "@jupyter-widgets/controls",
            "_model_module_version": "1.5.0",
            "_model_name": "DescriptionStyleModel",
            "_view_count": null,
            "_view_module": "@jupyter-widgets/base",
            "_view_module_version": "1.2.0",
            "_view_name": "StyleView",
            "description_width": ""
          }
        },
        "2c39eb6db4cd44649054353e128bc375": {
          "model_module": "@jupyter-widgets/base",
          "model_name": "LayoutModel",
          "model_module_version": "1.2.0",
          "state": {
            "_model_module": "@jupyter-widgets/base",
            "_model_module_version": "1.2.0",
            "_model_name": "LayoutModel",
            "_view_count": null,
            "_view_module": "@jupyter-widgets/base",
            "_view_module_version": "1.2.0",
            "_view_name": "LayoutView",
            "align_content": null,
            "align_items": null,
            "align_self": null,
            "border": null,
            "bottom": null,
            "display": null,
            "flex": null,
            "flex_flow": null,
            "grid_area": null,
            "grid_auto_columns": null,
            "grid_auto_flow": null,
            "grid_auto_rows": null,
            "grid_column": null,
            "grid_gap": null,
            "grid_row": null,
            "grid_template_areas": null,
            "grid_template_columns": null,
            "grid_template_rows": null,
            "height": null,
            "justify_content": null,
            "justify_items": null,
            "left": null,
            "margin": null,
            "max_height": null,
            "max_width": null,
            "min_height": null,
            "min_width": null,
            "object_fit": null,
            "object_position": null,
            "order": null,
            "overflow": null,
            "overflow_x": null,
            "overflow_y": null,
            "padding": null,
            "right": null,
            "top": null,
            "visibility": null,
            "width": null
          }
        },
        "6aa6f10691554a62957f901b780b8135": {
          "model_module": "@jupyter-widgets/controls",
          "model_name": "ProgressStyleModel",
          "model_module_version": "1.5.0",
          "state": {
            "_model_module": "@jupyter-widgets/controls",
            "_model_module_version": "1.5.0",
            "_model_name": "ProgressStyleModel",
            "_view_count": null,
            "_view_module": "@jupyter-widgets/base",
            "_view_module_version": "1.2.0",
            "_view_name": "StyleView",
            "bar_color": null,
            "description_width": ""
          }
        },
        "39d45335fff74a66af3a95f122a391b4": {
          "model_module": "@jupyter-widgets/base",
          "model_name": "LayoutModel",
          "model_module_version": "1.2.0",
          "state": {
            "_model_module": "@jupyter-widgets/base",
            "_model_module_version": "1.2.0",
            "_model_name": "LayoutModel",
            "_view_count": null,
            "_view_module": "@jupyter-widgets/base",
            "_view_module_version": "1.2.0",
            "_view_name": "LayoutView",
            "align_content": null,
            "align_items": null,
            "align_self": null,
            "border": null,
            "bottom": null,
            "display": null,
            "flex": null,
            "flex_flow": null,
            "grid_area": null,
            "grid_auto_columns": null,
            "grid_auto_flow": null,
            "grid_auto_rows": null,
            "grid_column": null,
            "grid_gap": null,
            "grid_row": null,
            "grid_template_areas": null,
            "grid_template_columns": null,
            "grid_template_rows": null,
            "height": null,
            "justify_content": null,
            "justify_items": null,
            "left": null,
            "margin": null,
            "max_height": null,
            "max_width": null,
            "min_height": null,
            "min_width": null,
            "object_fit": null,
            "object_position": null,
            "order": null,
            "overflow": null,
            "overflow_x": null,
            "overflow_y": null,
            "padding": null,
            "right": null,
            "top": null,
            "visibility": null,
            "width": null
          }
        },
        "0ce026ac10c346688dd28b91ad870b03": {
          "model_module": "@jupyter-widgets/controls",
          "model_name": "DescriptionStyleModel",
          "model_module_version": "1.5.0",
          "state": {
            "_model_module": "@jupyter-widgets/controls",
            "_model_module_version": "1.5.0",
            "_model_name": "DescriptionStyleModel",
            "_view_count": null,
            "_view_module": "@jupyter-widgets/base",
            "_view_module_version": "1.2.0",
            "_view_name": "StyleView",
            "description_width": ""
          }
        },
        "329f219136c8497698195e9a51a3dca4": {
          "model_module": "@jupyter-widgets/controls",
          "model_name": "HBoxModel",
          "model_module_version": "1.5.0",
          "state": {
            "_dom_classes": [],
            "_model_module": "@jupyter-widgets/controls",
            "_model_module_version": "1.5.0",
            "_model_name": "HBoxModel",
            "_view_count": null,
            "_view_module": "@jupyter-widgets/controls",
            "_view_module_version": "1.5.0",
            "_view_name": "HBoxView",
            "box_style": "",
            "children": [
              "IPY_MODEL_e5d2bb61110745e0b2afb4a51cfce67b",
              "IPY_MODEL_5a731ca572a24bb5b17c58a8d90a5409",
              "IPY_MODEL_863ea2aaad5742bd9d709689c5c5422c"
            ],
            "layout": "IPY_MODEL_218449ae0a4d4859b1f63d0abc364e91"
          }
        },
        "e5d2bb61110745e0b2afb4a51cfce67b": {
          "model_module": "@jupyter-widgets/controls",
          "model_name": "HTMLModel",
          "model_module_version": "1.5.0",
          "state": {
            "_dom_classes": [],
            "_model_module": "@jupyter-widgets/controls",
            "_model_module_version": "1.5.0",
            "_model_name": "HTMLModel",
            "_view_count": null,
            "_view_module": "@jupyter-widgets/controls",
            "_view_module_version": "1.5.0",
            "_view_name": "HTMLView",
            "description": "",
            "description_tooltip": null,
            "layout": "IPY_MODEL_11706a29545c43118f9c93ba2e41d872",
            "placeholder": "​",
            "style": "IPY_MODEL_6255d617bebe4234be503299b18f84a3",
            "value": "vocab.json: 100%"
          }
        },
        "5a731ca572a24bb5b17c58a8d90a5409": {
          "model_module": "@jupyter-widgets/controls",
          "model_name": "FloatProgressModel",
          "model_module_version": "1.5.0",
          "state": {
            "_dom_classes": [],
            "_model_module": "@jupyter-widgets/controls",
            "_model_module_version": "1.5.0",
            "_model_name": "FloatProgressModel",
            "_view_count": null,
            "_view_module": "@jupyter-widgets/controls",
            "_view_module_version": "1.5.0",
            "_view_name": "ProgressView",
            "bar_style": "success",
            "description": "",
            "description_tooltip": null,
            "layout": "IPY_MODEL_7bb03b14b14349e0a9a405a2966b6ba2",
            "max": 1713123,
            "min": 0,
            "orientation": "horizontal",
            "style": "IPY_MODEL_db44be48eeb1492281d260422a2c1fa4",
            "value": 1713123
          }
        },
        "863ea2aaad5742bd9d709689c5c5422c": {
          "model_module": "@jupyter-widgets/controls",
          "model_name": "HTMLModel",
          "model_module_version": "1.5.0",
          "state": {
            "_dom_classes": [],
            "_model_module": "@jupyter-widgets/controls",
            "_model_module_version": "1.5.0",
            "_model_name": "HTMLModel",
            "_view_count": null,
            "_view_module": "@jupyter-widgets/controls",
            "_view_module_version": "1.5.0",
            "_view_name": "HTMLView",
            "description": "",
            "description_tooltip": null,
            "layout": "IPY_MODEL_44ac247f5dda43939b12837b74e128c4",
            "placeholder": "​",
            "style": "IPY_MODEL_28b46da51b44481cb645e875c3f229d6",
            "value": " 1.71M/1.71M [00:00&lt;00:00, 15.6MB/s]"
          }
        },
        "218449ae0a4d4859b1f63d0abc364e91": {
          "model_module": "@jupyter-widgets/base",
          "model_name": "LayoutModel",
          "model_module_version": "1.2.0",
          "state": {
            "_model_module": "@jupyter-widgets/base",
            "_model_module_version": "1.2.0",
            "_model_name": "LayoutModel",
            "_view_count": null,
            "_view_module": "@jupyter-widgets/base",
            "_view_module_version": "1.2.0",
            "_view_name": "LayoutView",
            "align_content": null,
            "align_items": null,
            "align_self": null,
            "border": null,
            "bottom": null,
            "display": null,
            "flex": null,
            "flex_flow": null,
            "grid_area": null,
            "grid_auto_columns": null,
            "grid_auto_flow": null,
            "grid_auto_rows": null,
            "grid_column": null,
            "grid_gap": null,
            "grid_row": null,
            "grid_template_areas": null,
            "grid_template_columns": null,
            "grid_template_rows": null,
            "height": null,
            "justify_content": null,
            "justify_items": null,
            "left": null,
            "margin": null,
            "max_height": null,
            "max_width": null,
            "min_height": null,
            "min_width": null,
            "object_fit": null,
            "object_position": null,
            "order": null,
            "overflow": null,
            "overflow_x": null,
            "overflow_y": null,
            "padding": null,
            "right": null,
            "top": null,
            "visibility": null,
            "width": null
          }
        },
        "11706a29545c43118f9c93ba2e41d872": {
          "model_module": "@jupyter-widgets/base",
          "model_name": "LayoutModel",
          "model_module_version": "1.2.0",
          "state": {
            "_model_module": "@jupyter-widgets/base",
            "_model_module_version": "1.2.0",
            "_model_name": "LayoutModel",
            "_view_count": null,
            "_view_module": "@jupyter-widgets/base",
            "_view_module_version": "1.2.0",
            "_view_name": "LayoutView",
            "align_content": null,
            "align_items": null,
            "align_self": null,
            "border": null,
            "bottom": null,
            "display": null,
            "flex": null,
            "flex_flow": null,
            "grid_area": null,
            "grid_auto_columns": null,
            "grid_auto_flow": null,
            "grid_auto_rows": null,
            "grid_column": null,
            "grid_gap": null,
            "grid_row": null,
            "grid_template_areas": null,
            "grid_template_columns": null,
            "grid_template_rows": null,
            "height": null,
            "justify_content": null,
            "justify_items": null,
            "left": null,
            "margin": null,
            "max_height": null,
            "max_width": null,
            "min_height": null,
            "min_width": null,
            "object_fit": null,
            "object_position": null,
            "order": null,
            "overflow": null,
            "overflow_x": null,
            "overflow_y": null,
            "padding": null,
            "right": null,
            "top": null,
            "visibility": null,
            "width": null
          }
        },
        "6255d617bebe4234be503299b18f84a3": {
          "model_module": "@jupyter-widgets/controls",
          "model_name": "DescriptionStyleModel",
          "model_module_version": "1.5.0",
          "state": {
            "_model_module": "@jupyter-widgets/controls",
            "_model_module_version": "1.5.0",
            "_model_name": "DescriptionStyleModel",
            "_view_count": null,
            "_view_module": "@jupyter-widgets/base",
            "_view_module_version": "1.2.0",
            "_view_name": "StyleView",
            "description_width": ""
          }
        },
        "7bb03b14b14349e0a9a405a2966b6ba2": {
          "model_module": "@jupyter-widgets/base",
          "model_name": "LayoutModel",
          "model_module_version": "1.2.0",
          "state": {
            "_model_module": "@jupyter-widgets/base",
            "_model_module_version": "1.2.0",
            "_model_name": "LayoutModel",
            "_view_count": null,
            "_view_module": "@jupyter-widgets/base",
            "_view_module_version": "1.2.0",
            "_view_name": "LayoutView",
            "align_content": null,
            "align_items": null,
            "align_self": null,
            "border": null,
            "bottom": null,
            "display": null,
            "flex": null,
            "flex_flow": null,
            "grid_area": null,
            "grid_auto_columns": null,
            "grid_auto_flow": null,
            "grid_auto_rows": null,
            "grid_column": null,
            "grid_gap": null,
            "grid_row": null,
            "grid_template_areas": null,
            "grid_template_columns": null,
            "grid_template_rows": null,
            "height": null,
            "justify_content": null,
            "justify_items": null,
            "left": null,
            "margin": null,
            "max_height": null,
            "max_width": null,
            "min_height": null,
            "min_width": null,
            "object_fit": null,
            "object_position": null,
            "order": null,
            "overflow": null,
            "overflow_x": null,
            "overflow_y": null,
            "padding": null,
            "right": null,
            "top": null,
            "visibility": null,
            "width": null
          }
        },
        "db44be48eeb1492281d260422a2c1fa4": {
          "model_module": "@jupyter-widgets/controls",
          "model_name": "ProgressStyleModel",
          "model_module_version": "1.5.0",
          "state": {
            "_model_module": "@jupyter-widgets/controls",
            "_model_module_version": "1.5.0",
            "_model_name": "ProgressStyleModel",
            "_view_count": null,
            "_view_module": "@jupyter-widgets/base",
            "_view_module_version": "1.2.0",
            "_view_name": "StyleView",
            "bar_color": null,
            "description_width": ""
          }
        },
        "44ac247f5dda43939b12837b74e128c4": {
          "model_module": "@jupyter-widgets/base",
          "model_name": "LayoutModel",
          "model_module_version": "1.2.0",
          "state": {
            "_model_module": "@jupyter-widgets/base",
            "_model_module_version": "1.2.0",
            "_model_name": "LayoutModel",
            "_view_count": null,
            "_view_module": "@jupyter-widgets/base",
            "_view_module_version": "1.2.0",
            "_view_name": "LayoutView",
            "align_content": null,
            "align_items": null,
            "align_self": null,
            "border": null,
            "bottom": null,
            "display": null,
            "flex": null,
            "flex_flow": null,
            "grid_area": null,
            "grid_auto_columns": null,
            "grid_auto_flow": null,
            "grid_auto_rows": null,
            "grid_column": null,
            "grid_gap": null,
            "grid_row": null,
            "grid_template_areas": null,
            "grid_template_columns": null,
            "grid_template_rows": null,
            "height": null,
            "justify_content": null,
            "justify_items": null,
            "left": null,
            "margin": null,
            "max_height": null,
            "max_width": null,
            "min_height": null,
            "min_width": null,
            "object_fit": null,
            "object_position": null,
            "order": null,
            "overflow": null,
            "overflow_x": null,
            "overflow_y": null,
            "padding": null,
            "right": null,
            "top": null,
            "visibility": null,
            "width": null
          }
        },
        "28b46da51b44481cb645e875c3f229d6": {
          "model_module": "@jupyter-widgets/controls",
          "model_name": "DescriptionStyleModel",
          "model_module_version": "1.5.0",
          "state": {
            "_model_module": "@jupyter-widgets/controls",
            "_model_module_version": "1.5.0",
            "_model_name": "DescriptionStyleModel",
            "_view_count": null,
            "_view_module": "@jupyter-widgets/base",
            "_view_module_version": "1.2.0",
            "_view_name": "StyleView",
            "description_width": ""
          }
        },
        "8418c384b4d64b089ba68db70f4e0984": {
          "model_module": "@jupyter-widgets/controls",
          "model_name": "HBoxModel",
          "model_module_version": "1.5.0",
          "state": {
            "_dom_classes": [],
            "_model_module": "@jupyter-widgets/controls",
            "_model_module_version": "1.5.0",
            "_model_name": "HBoxModel",
            "_view_count": null,
            "_view_module": "@jupyter-widgets/controls",
            "_view_module_version": "1.5.0",
            "_view_name": "HBoxView",
            "box_style": "",
            "children": [
              "IPY_MODEL_4eb6416c191f46edb1550e51b8ea9ee2",
              "IPY_MODEL_b2605a1a437145a4b3e6cb012a6c5d02",
              "IPY_MODEL_6689d8a6da1a4157aadb1a1a5861a5fe"
            ],
            "layout": "IPY_MODEL_5895781171494fc9b437154dfa8561e8"
          }
        },
        "4eb6416c191f46edb1550e51b8ea9ee2": {
          "model_module": "@jupyter-widgets/controls",
          "model_name": "HTMLModel",
          "model_module_version": "1.5.0",
          "state": {
            "_dom_classes": [],
            "_model_module": "@jupyter-widgets/controls",
            "_model_module_version": "1.5.0",
            "_model_name": "HTMLModel",
            "_view_count": null,
            "_view_module": "@jupyter-widgets/controls",
            "_view_module_version": "1.5.0",
            "_view_name": "HTMLView",
            "description": "",
            "description_tooltip": null,
            "layout": "IPY_MODEL_e1796f00d8694980be057df78bf6936d",
            "placeholder": "​",
            "style": "IPY_MODEL_d747069420574fa69a30910078849c76",
            "value": "merges.txt: 100%"
          }
        },
        "b2605a1a437145a4b3e6cb012a6c5d02": {
          "model_module": "@jupyter-widgets/controls",
          "model_name": "FloatProgressModel",
          "model_module_version": "1.5.0",
          "state": {
            "_dom_classes": [],
            "_model_module": "@jupyter-widgets/controls",
            "_model_module_version": "1.5.0",
            "_model_name": "FloatProgressModel",
            "_view_count": null,
            "_view_module": "@jupyter-widgets/controls",
            "_view_module_version": "1.5.0",
            "_view_name": "ProgressView",
            "bar_style": "success",
            "description": "",
            "description_tooltip": null,
            "layout": "IPY_MODEL_55d86617a49e4426af18d1398ca20786",
            "max": 1270925,
            "min": 0,
            "orientation": "horizontal",
            "style": "IPY_MODEL_f7c9d0d69ced4201bbf455bee2743ce8",
            "value": 1270925
          }
        },
        "6689d8a6da1a4157aadb1a1a5861a5fe": {
          "model_module": "@jupyter-widgets/controls",
          "model_name": "HTMLModel",
          "model_module_version": "1.5.0",
          "state": {
            "_dom_classes": [],
            "_model_module": "@jupyter-widgets/controls",
            "_model_module_version": "1.5.0",
            "_model_name": "HTMLModel",
            "_view_count": null,
            "_view_module": "@jupyter-widgets/controls",
            "_view_module_version": "1.5.0",
            "_view_name": "HTMLView",
            "description": "",
            "description_tooltip": null,
            "layout": "IPY_MODEL_f16cd3a4f0c841a8bc0dac8e7a0d6793",
            "placeholder": "​",
            "style": "IPY_MODEL_d4b7d706bb524023b13e8e0008ea5528",
            "value": " 1.27M/1.27M [00:00&lt;00:00, 43.6MB/s]"
          }
        },
        "5895781171494fc9b437154dfa8561e8": {
          "model_module": "@jupyter-widgets/base",
          "model_name": "LayoutModel",
          "model_module_version": "1.2.0",
          "state": {
            "_model_module": "@jupyter-widgets/base",
            "_model_module_version": "1.2.0",
            "_model_name": "LayoutModel",
            "_view_count": null,
            "_view_module": "@jupyter-widgets/base",
            "_view_module_version": "1.2.0",
            "_view_name": "LayoutView",
            "align_content": null,
            "align_items": null,
            "align_self": null,
            "border": null,
            "bottom": null,
            "display": null,
            "flex": null,
            "flex_flow": null,
            "grid_area": null,
            "grid_auto_columns": null,
            "grid_auto_flow": null,
            "grid_auto_rows": null,
            "grid_column": null,
            "grid_gap": null,
            "grid_row": null,
            "grid_template_areas": null,
            "grid_template_columns": null,
            "grid_template_rows": null,
            "height": null,
            "justify_content": null,
            "justify_items": null,
            "left": null,
            "margin": null,
            "max_height": null,
            "max_width": null,
            "min_height": null,
            "min_width": null,
            "object_fit": null,
            "object_position": null,
            "order": null,
            "overflow": null,
            "overflow_x": null,
            "overflow_y": null,
            "padding": null,
            "right": null,
            "top": null,
            "visibility": null,
            "width": null
          }
        },
        "e1796f00d8694980be057df78bf6936d": {
          "model_module": "@jupyter-widgets/base",
          "model_name": "LayoutModel",
          "model_module_version": "1.2.0",
          "state": {
            "_model_module": "@jupyter-widgets/base",
            "_model_module_version": "1.2.0",
            "_model_name": "LayoutModel",
            "_view_count": null,
            "_view_module": "@jupyter-widgets/base",
            "_view_module_version": "1.2.0",
            "_view_name": "LayoutView",
            "align_content": null,
            "align_items": null,
            "align_self": null,
            "border": null,
            "bottom": null,
            "display": null,
            "flex": null,
            "flex_flow": null,
            "grid_area": null,
            "grid_auto_columns": null,
            "grid_auto_flow": null,
            "grid_auto_rows": null,
            "grid_column": null,
            "grid_gap": null,
            "grid_row": null,
            "grid_template_areas": null,
            "grid_template_columns": null,
            "grid_template_rows": null,
            "height": null,
            "justify_content": null,
            "justify_items": null,
            "left": null,
            "margin": null,
            "max_height": null,
            "max_width": null,
            "min_height": null,
            "min_width": null,
            "object_fit": null,
            "object_position": null,
            "order": null,
            "overflow": null,
            "overflow_x": null,
            "overflow_y": null,
            "padding": null,
            "right": null,
            "top": null,
            "visibility": null,
            "width": null
          }
        },
        "d747069420574fa69a30910078849c76": {
          "model_module": "@jupyter-widgets/controls",
          "model_name": "DescriptionStyleModel",
          "model_module_version": "1.5.0",
          "state": {
            "_model_module": "@jupyter-widgets/controls",
            "_model_module_version": "1.5.0",
            "_model_name": "DescriptionStyleModel",
            "_view_count": null,
            "_view_module": "@jupyter-widgets/base",
            "_view_module_version": "1.2.0",
            "_view_name": "StyleView",
            "description_width": ""
          }
        },
        "55d86617a49e4426af18d1398ca20786": {
          "model_module": "@jupyter-widgets/base",
          "model_name": "LayoutModel",
          "model_module_version": "1.2.0",
          "state": {
            "_model_module": "@jupyter-widgets/base",
            "_model_module_version": "1.2.0",
            "_model_name": "LayoutModel",
            "_view_count": null,
            "_view_module": "@jupyter-widgets/base",
            "_view_module_version": "1.2.0",
            "_view_name": "LayoutView",
            "align_content": null,
            "align_items": null,
            "align_self": null,
            "border": null,
            "bottom": null,
            "display": null,
            "flex": null,
            "flex_flow": null,
            "grid_area": null,
            "grid_auto_columns": null,
            "grid_auto_flow": null,
            "grid_auto_rows": null,
            "grid_column": null,
            "grid_gap": null,
            "grid_row": null,
            "grid_template_areas": null,
            "grid_template_columns": null,
            "grid_template_rows": null,
            "height": null,
            "justify_content": null,
            "justify_items": null,
            "left": null,
            "margin": null,
            "max_height": null,
            "max_width": null,
            "min_height": null,
            "min_width": null,
            "object_fit": null,
            "object_position": null,
            "order": null,
            "overflow": null,
            "overflow_x": null,
            "overflow_y": null,
            "padding": null,
            "right": null,
            "top": null,
            "visibility": null,
            "width": null
          }
        },
        "f7c9d0d69ced4201bbf455bee2743ce8": {
          "model_module": "@jupyter-widgets/controls",
          "model_name": "ProgressStyleModel",
          "model_module_version": "1.5.0",
          "state": {
            "_model_module": "@jupyter-widgets/controls",
            "_model_module_version": "1.5.0",
            "_model_name": "ProgressStyleModel",
            "_view_count": null,
            "_view_module": "@jupyter-widgets/base",
            "_view_module_version": "1.2.0",
            "_view_name": "StyleView",
            "bar_color": null,
            "description_width": ""
          }
        },
        "f16cd3a4f0c841a8bc0dac8e7a0d6793": {
          "model_module": "@jupyter-widgets/base",
          "model_name": "LayoutModel",
          "model_module_version": "1.2.0",
          "state": {
            "_model_module": "@jupyter-widgets/base",
            "_model_module_version": "1.2.0",
            "_model_name": "LayoutModel",
            "_view_count": null,
            "_view_module": "@jupyter-widgets/base",
            "_view_module_version": "1.2.0",
            "_view_name": "LayoutView",
            "align_content": null,
            "align_items": null,
            "align_self": null,
            "border": null,
            "bottom": null,
            "display": null,
            "flex": null,
            "flex_flow": null,
            "grid_area": null,
            "grid_auto_columns": null,
            "grid_auto_flow": null,
            "grid_auto_rows": null,
            "grid_column": null,
            "grid_gap": null,
            "grid_row": null,
            "grid_template_areas": null,
            "grid_template_columns": null,
            "grid_template_rows": null,
            "height": null,
            "justify_content": null,
            "justify_items": null,
            "left": null,
            "margin": null,
            "max_height": null,
            "max_width": null,
            "min_height": null,
            "min_width": null,
            "object_fit": null,
            "object_position": null,
            "order": null,
            "overflow": null,
            "overflow_x": null,
            "overflow_y": null,
            "padding": null,
            "right": null,
            "top": null,
            "visibility": null,
            "width": null
          }
        },
        "d4b7d706bb524023b13e8e0008ea5528": {
          "model_module": "@jupyter-widgets/controls",
          "model_name": "DescriptionStyleModel",
          "model_module_version": "1.5.0",
          "state": {
            "_model_module": "@jupyter-widgets/controls",
            "_model_module_version": "1.5.0",
            "_model_name": "DescriptionStyleModel",
            "_view_count": null,
            "_view_module": "@jupyter-widgets/base",
            "_view_module_version": "1.2.0",
            "_view_name": "StyleView",
            "description_width": ""
          }
        },
        "ecf15580debe4af0b46d658e364f18a4": {
          "model_module": "@jupyter-widgets/controls",
          "model_name": "HBoxModel",
          "model_module_version": "1.5.0",
          "state": {
            "_dom_classes": [],
            "_model_module": "@jupyter-widgets/controls",
            "_model_module_version": "1.5.0",
            "_model_name": "HBoxModel",
            "_view_count": null,
            "_view_module": "@jupyter-widgets/controls",
            "_view_module_version": "1.5.0",
            "_view_name": "HBoxView",
            "box_style": "",
            "children": [
              "IPY_MODEL_bf7406dab130423da16ca9021865d7dc",
              "IPY_MODEL_d411bb6bd75242f3a8d20205dcfec825",
              "IPY_MODEL_490e204032ad4d68bf50a3c2aaacec5b"
            ],
            "layout": "IPY_MODEL_8f49b3df96c546c9a0072dd1934350ab"
          }
        },
        "bf7406dab130423da16ca9021865d7dc": {
          "model_module": "@jupyter-widgets/controls",
          "model_name": "HTMLModel",
          "model_module_version": "1.5.0",
          "state": {
            "_dom_classes": [],
            "_model_module": "@jupyter-widgets/controls",
            "_model_module_version": "1.5.0",
            "_model_name": "HTMLModel",
            "_view_count": null,
            "_view_module": "@jupyter-widgets/controls",
            "_view_module_version": "1.5.0",
            "_view_name": "HTMLView",
            "description": "",
            "description_tooltip": null,
            "layout": "IPY_MODEL_0941a15939fd49cdad4984049a4bab43",
            "placeholder": "​",
            "style": "IPY_MODEL_e203b7ecd0f54befbf80fe7ca4b5b6f4",
            "value": "special_tokens_map.json: 100%"
          }
        },
        "d411bb6bd75242f3a8d20205dcfec825": {
          "model_module": "@jupyter-widgets/controls",
          "model_name": "FloatProgressModel",
          "model_module_version": "1.5.0",
          "state": {
            "_dom_classes": [],
            "_model_module": "@jupyter-widgets/controls",
            "_model_module_version": "1.5.0",
            "_model_name": "FloatProgressModel",
            "_view_count": null,
            "_view_module": "@jupyter-widgets/controls",
            "_view_module_version": "1.5.0",
            "_view_name": "ProgressView",
            "bar_style": "success",
            "description": "",
            "description_tooltip": null,
            "layout": "IPY_MODEL_b3edec3aecec449b9016d85543501d33",
            "max": 574,
            "min": 0,
            "orientation": "horizontal",
            "style": "IPY_MODEL_2062fd5344644efe83280110a57ce2bb",
            "value": 574
          }
        },
        "490e204032ad4d68bf50a3c2aaacec5b": {
          "model_module": "@jupyter-widgets/controls",
          "model_name": "HTMLModel",
          "model_module_version": "1.5.0",
          "state": {
            "_dom_classes": [],
            "_model_module": "@jupyter-widgets/controls",
            "_model_module_version": "1.5.0",
            "_model_name": "HTMLModel",
            "_view_count": null,
            "_view_module": "@jupyter-widgets/controls",
            "_view_module_version": "1.5.0",
            "_view_name": "HTMLView",
            "description": "",
            "description_tooltip": null,
            "layout": "IPY_MODEL_4713a1f85cb840a9915bd818903bdfef",
            "placeholder": "​",
            "style": "IPY_MODEL_4a23a7005d294b41907bfc8cf4c512c0",
            "value": " 574/574 [00:00&lt;00:00, 26.1kB/s]"
          }
        },
        "8f49b3df96c546c9a0072dd1934350ab": {
          "model_module": "@jupyter-widgets/base",
          "model_name": "LayoutModel",
          "model_module_version": "1.2.0",
          "state": {
            "_model_module": "@jupyter-widgets/base",
            "_model_module_version": "1.2.0",
            "_model_name": "LayoutModel",
            "_view_count": null,
            "_view_module": "@jupyter-widgets/base",
            "_view_module_version": "1.2.0",
            "_view_name": "LayoutView",
            "align_content": null,
            "align_items": null,
            "align_self": null,
            "border": null,
            "bottom": null,
            "display": null,
            "flex": null,
            "flex_flow": null,
            "grid_area": null,
            "grid_auto_columns": null,
            "grid_auto_flow": null,
            "grid_auto_rows": null,
            "grid_column": null,
            "grid_gap": null,
            "grid_row": null,
            "grid_template_areas": null,
            "grid_template_columns": null,
            "grid_template_rows": null,
            "height": null,
            "justify_content": null,
            "justify_items": null,
            "left": null,
            "margin": null,
            "max_height": null,
            "max_width": null,
            "min_height": null,
            "min_width": null,
            "object_fit": null,
            "object_position": null,
            "order": null,
            "overflow": null,
            "overflow_x": null,
            "overflow_y": null,
            "padding": null,
            "right": null,
            "top": null,
            "visibility": null,
            "width": null
          }
        },
        "0941a15939fd49cdad4984049a4bab43": {
          "model_module": "@jupyter-widgets/base",
          "model_name": "LayoutModel",
          "model_module_version": "1.2.0",
          "state": {
            "_model_module": "@jupyter-widgets/base",
            "_model_module_version": "1.2.0",
            "_model_name": "LayoutModel",
            "_view_count": null,
            "_view_module": "@jupyter-widgets/base",
            "_view_module_version": "1.2.0",
            "_view_name": "LayoutView",
            "align_content": null,
            "align_items": null,
            "align_self": null,
            "border": null,
            "bottom": null,
            "display": null,
            "flex": null,
            "flex_flow": null,
            "grid_area": null,
            "grid_auto_columns": null,
            "grid_auto_flow": null,
            "grid_auto_rows": null,
            "grid_column": null,
            "grid_gap": null,
            "grid_row": null,
            "grid_template_areas": null,
            "grid_template_columns": null,
            "grid_template_rows": null,
            "height": null,
            "justify_content": null,
            "justify_items": null,
            "left": null,
            "margin": null,
            "max_height": null,
            "max_width": null,
            "min_height": null,
            "min_width": null,
            "object_fit": null,
            "object_position": null,
            "order": null,
            "overflow": null,
            "overflow_x": null,
            "overflow_y": null,
            "padding": null,
            "right": null,
            "top": null,
            "visibility": null,
            "width": null
          }
        },
        "e203b7ecd0f54befbf80fe7ca4b5b6f4": {
          "model_module": "@jupyter-widgets/controls",
          "model_name": "DescriptionStyleModel",
          "model_module_version": "1.5.0",
          "state": {
            "_model_module": "@jupyter-widgets/controls",
            "_model_module_version": "1.5.0",
            "_model_name": "DescriptionStyleModel",
            "_view_count": null,
            "_view_module": "@jupyter-widgets/base",
            "_view_module_version": "1.2.0",
            "_view_name": "StyleView",
            "description_width": ""
          }
        },
        "b3edec3aecec449b9016d85543501d33": {
          "model_module": "@jupyter-widgets/base",
          "model_name": "LayoutModel",
          "model_module_version": "1.2.0",
          "state": {
            "_model_module": "@jupyter-widgets/base",
            "_model_module_version": "1.2.0",
            "_model_name": "LayoutModel",
            "_view_count": null,
            "_view_module": "@jupyter-widgets/base",
            "_view_module_version": "1.2.0",
            "_view_name": "LayoutView",
            "align_content": null,
            "align_items": null,
            "align_self": null,
            "border": null,
            "bottom": null,
            "display": null,
            "flex": null,
            "flex_flow": null,
            "grid_area": null,
            "grid_auto_columns": null,
            "grid_auto_flow": null,
            "grid_auto_rows": null,
            "grid_column": null,
            "grid_gap": null,
            "grid_row": null,
            "grid_template_areas": null,
            "grid_template_columns": null,
            "grid_template_rows": null,
            "height": null,
            "justify_content": null,
            "justify_items": null,
            "left": null,
            "margin": null,
            "max_height": null,
            "max_width": null,
            "min_height": null,
            "min_width": null,
            "object_fit": null,
            "object_position": null,
            "order": null,
            "overflow": null,
            "overflow_x": null,
            "overflow_y": null,
            "padding": null,
            "right": null,
            "top": null,
            "visibility": null,
            "width": null
          }
        },
        "2062fd5344644efe83280110a57ce2bb": {
          "model_module": "@jupyter-widgets/controls",
          "model_name": "ProgressStyleModel",
          "model_module_version": "1.5.0",
          "state": {
            "_model_module": "@jupyter-widgets/controls",
            "_model_module_version": "1.5.0",
            "_model_name": "ProgressStyleModel",
            "_view_count": null,
            "_view_module": "@jupyter-widgets/base",
            "_view_module_version": "1.2.0",
            "_view_name": "StyleView",
            "bar_color": null,
            "description_width": ""
          }
        },
        "4713a1f85cb840a9915bd818903bdfef": {
          "model_module": "@jupyter-widgets/base",
          "model_name": "LayoutModel",
          "model_module_version": "1.2.0",
          "state": {
            "_model_module": "@jupyter-widgets/base",
            "_model_module_version": "1.2.0",
            "_model_name": "LayoutModel",
            "_view_count": null,
            "_view_module": "@jupyter-widgets/base",
            "_view_module_version": "1.2.0",
            "_view_name": "LayoutView",
            "align_content": null,
            "align_items": null,
            "align_self": null,
            "border": null,
            "bottom": null,
            "display": null,
            "flex": null,
            "flex_flow": null,
            "grid_area": null,
            "grid_auto_columns": null,
            "grid_auto_flow": null,
            "grid_auto_rows": null,
            "grid_column": null,
            "grid_gap": null,
            "grid_row": null,
            "grid_template_areas": null,
            "grid_template_columns": null,
            "grid_template_rows": null,
            "height": null,
            "justify_content": null,
            "justify_items": null,
            "left": null,
            "margin": null,
            "max_height": null,
            "max_width": null,
            "min_height": null,
            "min_width": null,
            "object_fit": null,
            "object_position": null,
            "order": null,
            "overflow": null,
            "overflow_x": null,
            "overflow_y": null,
            "padding": null,
            "right": null,
            "top": null,
            "visibility": null,
            "width": null
          }
        },
        "4a23a7005d294b41907bfc8cf4c512c0": {
          "model_module": "@jupyter-widgets/controls",
          "model_name": "DescriptionStyleModel",
          "model_module_version": "1.5.0",
          "state": {
            "_model_module": "@jupyter-widgets/controls",
            "_model_module_version": "1.5.0",
            "_model_name": "DescriptionStyleModel",
            "_view_count": null,
            "_view_module": "@jupyter-widgets/base",
            "_view_module_version": "1.2.0",
            "_view_name": "StyleView",
            "description_width": ""
          }
        },
        "399aececeeb24d59b83de588053152dd": {
          "model_module": "@jupyter-widgets/controls",
          "model_name": "HBoxModel",
          "model_module_version": "1.5.0",
          "state": {
            "_dom_classes": [],
            "_model_module": "@jupyter-widgets/controls",
            "_model_module_version": "1.5.0",
            "_model_name": "HBoxModel",
            "_view_count": null,
            "_view_module": "@jupyter-widgets/controls",
            "_view_module_version": "1.5.0",
            "_view_name": "HBoxView",
            "box_style": "",
            "children": [
              "IPY_MODEL_42071d3be8a64d5a9dd0d4f144024554",
              "IPY_MODEL_18cd73a91d734d9ba7f54c4e67ffb072",
              "IPY_MODEL_1cb15fe8d77e434cbaf0d99e24c177dc"
            ],
            "layout": "IPY_MODEL_f9fc006081a0488c95e3eb0c7c9dc9b5"
          }
        },
        "42071d3be8a64d5a9dd0d4f144024554": {
          "model_module": "@jupyter-widgets/controls",
          "model_name": "HTMLModel",
          "model_module_version": "1.5.0",
          "state": {
            "_dom_classes": [],
            "_model_module": "@jupyter-widgets/controls",
            "_model_module_version": "1.5.0",
            "_model_name": "HTMLModel",
            "_view_count": null,
            "_view_module": "@jupyter-widgets/controls",
            "_view_module_version": "1.5.0",
            "_view_name": "HTMLView",
            "description": "",
            "description_tooltip": null,
            "layout": "IPY_MODEL_26d20cf586c64f1790cc4ce2fbc1307f",
            "placeholder": "​",
            "style": "IPY_MODEL_3dc19642fd4549098054185c4f6ca7a0",
            "value": "config.json: 100%"
          }
        },
        "18cd73a91d734d9ba7f54c4e67ffb072": {
          "model_module": "@jupyter-widgets/controls",
          "model_name": "FloatProgressModel",
          "model_module_version": "1.5.0",
          "state": {
            "_dom_classes": [],
            "_model_module": "@jupyter-widgets/controls",
            "_model_module_version": "1.5.0",
            "_model_name": "FloatProgressModel",
            "_view_count": null,
            "_view_module": "@jupyter-widgets/controls",
            "_view_module_version": "1.5.0",
            "_view_name": "ProgressView",
            "bar_style": "success",
            "description": "",
            "description_tooltip": null,
            "layout": "IPY_MODEL_372682efe97e43fdb91a4387576050db",
            "max": 720,
            "min": 0,
            "orientation": "horizontal",
            "style": "IPY_MODEL_01840c85fd604c7484eacc617fa6f393",
            "value": 720
          }
        },
        "1cb15fe8d77e434cbaf0d99e24c177dc": {
          "model_module": "@jupyter-widgets/controls",
          "model_name": "HTMLModel",
          "model_module_version": "1.5.0",
          "state": {
            "_dom_classes": [],
            "_model_module": "@jupyter-widgets/controls",
            "_model_module_version": "1.5.0",
            "_model_name": "HTMLModel",
            "_view_count": null,
            "_view_module": "@jupyter-widgets/controls",
            "_view_module_version": "1.5.0",
            "_view_name": "HTMLView",
            "description": "",
            "description_tooltip": null,
            "layout": "IPY_MODEL_d3c28bda4e2742e3bcb78bbf343d49e8",
            "placeholder": "​",
            "style": "IPY_MODEL_847c04c8b3864bc2910a244dab063c5b",
            "value": " 720/720 [00:00&lt;00:00, 44.9kB/s]"
          }
        },
        "f9fc006081a0488c95e3eb0c7c9dc9b5": {
          "model_module": "@jupyter-widgets/base",
          "model_name": "LayoutModel",
          "model_module_version": "1.2.0",
          "state": {
            "_model_module": "@jupyter-widgets/base",
            "_model_module_version": "1.2.0",
            "_model_name": "LayoutModel",
            "_view_count": null,
            "_view_module": "@jupyter-widgets/base",
            "_view_module_version": "1.2.0",
            "_view_name": "LayoutView",
            "align_content": null,
            "align_items": null,
            "align_self": null,
            "border": null,
            "bottom": null,
            "display": null,
            "flex": null,
            "flex_flow": null,
            "grid_area": null,
            "grid_auto_columns": null,
            "grid_auto_flow": null,
            "grid_auto_rows": null,
            "grid_column": null,
            "grid_gap": null,
            "grid_row": null,
            "grid_template_areas": null,
            "grid_template_columns": null,
            "grid_template_rows": null,
            "height": null,
            "justify_content": null,
            "justify_items": null,
            "left": null,
            "margin": null,
            "max_height": null,
            "max_width": null,
            "min_height": null,
            "min_width": null,
            "object_fit": null,
            "object_position": null,
            "order": null,
            "overflow": null,
            "overflow_x": null,
            "overflow_y": null,
            "padding": null,
            "right": null,
            "top": null,
            "visibility": null,
            "width": null
          }
        },
        "26d20cf586c64f1790cc4ce2fbc1307f": {
          "model_module": "@jupyter-widgets/base",
          "model_name": "LayoutModel",
          "model_module_version": "1.2.0",
          "state": {
            "_model_module": "@jupyter-widgets/base",
            "_model_module_version": "1.2.0",
            "_model_name": "LayoutModel",
            "_view_count": null,
            "_view_module": "@jupyter-widgets/base",
            "_view_module_version": "1.2.0",
            "_view_name": "LayoutView",
            "align_content": null,
            "align_items": null,
            "align_self": null,
            "border": null,
            "bottom": null,
            "display": null,
            "flex": null,
            "flex_flow": null,
            "grid_area": null,
            "grid_auto_columns": null,
            "grid_auto_flow": null,
            "grid_auto_rows": null,
            "grid_column": null,
            "grid_gap": null,
            "grid_row": null,
            "grid_template_areas": null,
            "grid_template_columns": null,
            "grid_template_rows": null,
            "height": null,
            "justify_content": null,
            "justify_items": null,
            "left": null,
            "margin": null,
            "max_height": null,
            "max_width": null,
            "min_height": null,
            "min_width": null,
            "object_fit": null,
            "object_position": null,
            "order": null,
            "overflow": null,
            "overflow_x": null,
            "overflow_y": null,
            "padding": null,
            "right": null,
            "top": null,
            "visibility": null,
            "width": null
          }
        },
        "3dc19642fd4549098054185c4f6ca7a0": {
          "model_module": "@jupyter-widgets/controls",
          "model_name": "DescriptionStyleModel",
          "model_module_version": "1.5.0",
          "state": {
            "_model_module": "@jupyter-widgets/controls",
            "_model_module_version": "1.5.0",
            "_model_name": "DescriptionStyleModel",
            "_view_count": null,
            "_view_module": "@jupyter-widgets/base",
            "_view_module_version": "1.2.0",
            "_view_name": "StyleView",
            "description_width": ""
          }
        },
        "372682efe97e43fdb91a4387576050db": {
          "model_module": "@jupyter-widgets/base",
          "model_name": "LayoutModel",
          "model_module_version": "1.2.0",
          "state": {
            "_model_module": "@jupyter-widgets/base",
            "_model_module_version": "1.2.0",
            "_model_name": "LayoutModel",
            "_view_count": null,
            "_view_module": "@jupyter-widgets/base",
            "_view_module_version": "1.2.0",
            "_view_name": "LayoutView",
            "align_content": null,
            "align_items": null,
            "align_self": null,
            "border": null,
            "bottom": null,
            "display": null,
            "flex": null,
            "flex_flow": null,
            "grid_area": null,
            "grid_auto_columns": null,
            "grid_auto_flow": null,
            "grid_auto_rows": null,
            "grid_column": null,
            "grid_gap": null,
            "grid_row": null,
            "grid_template_areas": null,
            "grid_template_columns": null,
            "grid_template_rows": null,
            "height": null,
            "justify_content": null,
            "justify_items": null,
            "left": null,
            "margin": null,
            "max_height": null,
            "max_width": null,
            "min_height": null,
            "min_width": null,
            "object_fit": null,
            "object_position": null,
            "order": null,
            "overflow": null,
            "overflow_x": null,
            "overflow_y": null,
            "padding": null,
            "right": null,
            "top": null,
            "visibility": null,
            "width": null
          }
        },
        "01840c85fd604c7484eacc617fa6f393": {
          "model_module": "@jupyter-widgets/controls",
          "model_name": "ProgressStyleModel",
          "model_module_version": "1.5.0",
          "state": {
            "_model_module": "@jupyter-widgets/controls",
            "_model_module_version": "1.5.0",
            "_model_name": "ProgressStyleModel",
            "_view_count": null,
            "_view_module": "@jupyter-widgets/base",
            "_view_module_version": "1.2.0",
            "_view_name": "StyleView",
            "bar_color": null,
            "description_width": ""
          }
        },
        "d3c28bda4e2742e3bcb78bbf343d49e8": {
          "model_module": "@jupyter-widgets/base",
          "model_name": "LayoutModel",
          "model_module_version": "1.2.0",
          "state": {
            "_model_module": "@jupyter-widgets/base",
            "_model_module_version": "1.2.0",
            "_model_name": "LayoutModel",
            "_view_count": null,
            "_view_module": "@jupyter-widgets/base",
            "_view_module_version": "1.2.0",
            "_view_name": "LayoutView",
            "align_content": null,
            "align_items": null,
            "align_self": null,
            "border": null,
            "bottom": null,
            "display": null,
            "flex": null,
            "flex_flow": null,
            "grid_area": null,
            "grid_auto_columns": null,
            "grid_auto_flow": null,
            "grid_auto_rows": null,
            "grid_column": null,
            "grid_gap": null,
            "grid_row": null,
            "grid_template_areas": null,
            "grid_template_columns": null,
            "grid_template_rows": null,
            "height": null,
            "justify_content": null,
            "justify_items": null,
            "left": null,
            "margin": null,
            "max_height": null,
            "max_width": null,
            "min_height": null,
            "min_width": null,
            "object_fit": null,
            "object_position": null,
            "order": null,
            "overflow": null,
            "overflow_x": null,
            "overflow_y": null,
            "padding": null,
            "right": null,
            "top": null,
            "visibility": null,
            "width": null
          }
        },
        "847c04c8b3864bc2910a244dab063c5b": {
          "model_module": "@jupyter-widgets/controls",
          "model_name": "DescriptionStyleModel",
          "model_module_version": "1.5.0",
          "state": {
            "_model_module": "@jupyter-widgets/controls",
            "_model_module_version": "1.5.0",
            "_model_name": "DescriptionStyleModel",
            "_view_count": null,
            "_view_module": "@jupyter-widgets/base",
            "_view_module_version": "1.2.0",
            "_view_name": "StyleView",
            "description_width": ""
          }
        },
        "1bbb5009b38a439888caa335e356f383": {
          "model_module": "@jupyter-widgets/controls",
          "model_name": "HBoxModel",
          "model_module_version": "1.5.0",
          "state": {
            "_dom_classes": [],
            "_model_module": "@jupyter-widgets/controls",
            "_model_module_version": "1.5.0",
            "_model_name": "HBoxModel",
            "_view_count": null,
            "_view_module": "@jupyter-widgets/controls",
            "_view_module_version": "1.5.0",
            "_view_name": "HBoxView",
            "box_style": "",
            "children": [
              "IPY_MODEL_4bc4aaa310914739875f4e0b0288ae5c",
              "IPY_MODEL_196e7e818bcd479dbf5a7e573b7e0377",
              "IPY_MODEL_3b55aa5495284a53827a54c6931ee9f0"
            ],
            "layout": "IPY_MODEL_717fee83243943bc8d72f8ba0dcc49dc"
          }
        },
        "4bc4aaa310914739875f4e0b0288ae5c": {
          "model_module": "@jupyter-widgets/controls",
          "model_name": "HTMLModel",
          "model_module_version": "1.5.0",
          "state": {
            "_dom_classes": [],
            "_model_module": "@jupyter-widgets/controls",
            "_model_module_version": "1.5.0",
            "_model_name": "HTMLModel",
            "_view_count": null,
            "_view_module": "@jupyter-widgets/controls",
            "_view_module_version": "1.5.0",
            "_view_name": "HTMLView",
            "description": "",
            "description_tooltip": null,
            "layout": "IPY_MODEL_5ddf96c9139f4e77b8c2a9706e16ce1a",
            "placeholder": "​",
            "style": "IPY_MODEL_497c26a7190c40b9b9a4babbcd0be1d5",
            "value": "pytorch_model.bin: 100%"
          }
        },
        "196e7e818bcd479dbf5a7e573b7e0377": {
          "model_module": "@jupyter-widgets/controls",
          "model_name": "FloatProgressModel",
          "model_module_version": "1.5.0",
          "state": {
            "_dom_classes": [],
            "_model_module": "@jupyter-widgets/controls",
            "_model_module_version": "1.5.0",
            "_model_name": "FloatProgressModel",
            "_view_count": null,
            "_view_module": "@jupyter-widgets/controls",
            "_view_module_version": "1.5.0",
            "_view_name": "ProgressView",
            "bar_style": "success",
            "description": "",
            "description_tooltip": null,
            "layout": "IPY_MODEL_57a882cccc8d43c4ab82df67960691f4",
            "max": 551290714,
            "min": 0,
            "orientation": "horizontal",
            "style": "IPY_MODEL_64c6385dff7a4492990c2c8bb8635583",
            "value": 551290714
          }
        },
        "3b55aa5495284a53827a54c6931ee9f0": {
          "model_module": "@jupyter-widgets/controls",
          "model_name": "HTMLModel",
          "model_module_version": "1.5.0",
          "state": {
            "_dom_classes": [],
            "_model_module": "@jupyter-widgets/controls",
            "_model_module_version": "1.5.0",
            "_model_name": "HTMLModel",
            "_view_count": null,
            "_view_module": "@jupyter-widgets/controls",
            "_view_module_version": "1.5.0",
            "_view_name": "HTMLView",
            "description": "",
            "description_tooltip": null,
            "layout": "IPY_MODEL_ca5040dde7704c23b7a05460db7e0e6d",
            "placeholder": "​",
            "style": "IPY_MODEL_4c84a622f8364e05a21c585dca34cc12",
            "value": " 551M/551M [00:20&lt;00:00, 24.7MB/s]"
          }
        },
        "717fee83243943bc8d72f8ba0dcc49dc": {
          "model_module": "@jupyter-widgets/base",
          "model_name": "LayoutModel",
          "model_module_version": "1.2.0",
          "state": {
            "_model_module": "@jupyter-widgets/base",
            "_model_module_version": "1.2.0",
            "_model_name": "LayoutModel",
            "_view_count": null,
            "_view_module": "@jupyter-widgets/base",
            "_view_module_version": "1.2.0",
            "_view_name": "LayoutView",
            "align_content": null,
            "align_items": null,
            "align_self": null,
            "border": null,
            "bottom": null,
            "display": null,
            "flex": null,
            "flex_flow": null,
            "grid_area": null,
            "grid_auto_columns": null,
            "grid_auto_flow": null,
            "grid_auto_rows": null,
            "grid_column": null,
            "grid_gap": null,
            "grid_row": null,
            "grid_template_areas": null,
            "grid_template_columns": null,
            "grid_template_rows": null,
            "height": null,
            "justify_content": null,
            "justify_items": null,
            "left": null,
            "margin": null,
            "max_height": null,
            "max_width": null,
            "min_height": null,
            "min_width": null,
            "object_fit": null,
            "object_position": null,
            "order": null,
            "overflow": null,
            "overflow_x": null,
            "overflow_y": null,
            "padding": null,
            "right": null,
            "top": null,
            "visibility": null,
            "width": null
          }
        },
        "5ddf96c9139f4e77b8c2a9706e16ce1a": {
          "model_module": "@jupyter-widgets/base",
          "model_name": "LayoutModel",
          "model_module_version": "1.2.0",
          "state": {
            "_model_module": "@jupyter-widgets/base",
            "_model_module_version": "1.2.0",
            "_model_name": "LayoutModel",
            "_view_count": null,
            "_view_module": "@jupyter-widgets/base",
            "_view_module_version": "1.2.0",
            "_view_name": "LayoutView",
            "align_content": null,
            "align_items": null,
            "align_self": null,
            "border": null,
            "bottom": null,
            "display": null,
            "flex": null,
            "flex_flow": null,
            "grid_area": null,
            "grid_auto_columns": null,
            "grid_auto_flow": null,
            "grid_auto_rows": null,
            "grid_column": null,
            "grid_gap": null,
            "grid_row": null,
            "grid_template_areas": null,
            "grid_template_columns": null,
            "grid_template_rows": null,
            "height": null,
            "justify_content": null,
            "justify_items": null,
            "left": null,
            "margin": null,
            "max_height": null,
            "max_width": null,
            "min_height": null,
            "min_width": null,
            "object_fit": null,
            "object_position": null,
            "order": null,
            "overflow": null,
            "overflow_x": null,
            "overflow_y": null,
            "padding": null,
            "right": null,
            "top": null,
            "visibility": null,
            "width": null
          }
        },
        "497c26a7190c40b9b9a4babbcd0be1d5": {
          "model_module": "@jupyter-widgets/controls",
          "model_name": "DescriptionStyleModel",
          "model_module_version": "1.5.0",
          "state": {
            "_model_module": "@jupyter-widgets/controls",
            "_model_module_version": "1.5.0",
            "_model_name": "DescriptionStyleModel",
            "_view_count": null,
            "_view_module": "@jupyter-widgets/base",
            "_view_module_version": "1.2.0",
            "_view_name": "StyleView",
            "description_width": ""
          }
        },
        "57a882cccc8d43c4ab82df67960691f4": {
          "model_module": "@jupyter-widgets/base",
          "model_name": "LayoutModel",
          "model_module_version": "1.2.0",
          "state": {
            "_model_module": "@jupyter-widgets/base",
            "_model_module_version": "1.2.0",
            "_model_name": "LayoutModel",
            "_view_count": null,
            "_view_module": "@jupyter-widgets/base",
            "_view_module_version": "1.2.0",
            "_view_name": "LayoutView",
            "align_content": null,
            "align_items": null,
            "align_self": null,
            "border": null,
            "bottom": null,
            "display": null,
            "flex": null,
            "flex_flow": null,
            "grid_area": null,
            "grid_auto_columns": null,
            "grid_auto_flow": null,
            "grid_auto_rows": null,
            "grid_column": null,
            "grid_gap": null,
            "grid_row": null,
            "grid_template_areas": null,
            "grid_template_columns": null,
            "grid_template_rows": null,
            "height": null,
            "justify_content": null,
            "justify_items": null,
            "left": null,
            "margin": null,
            "max_height": null,
            "max_width": null,
            "min_height": null,
            "min_width": null,
            "object_fit": null,
            "object_position": null,
            "order": null,
            "overflow": null,
            "overflow_x": null,
            "overflow_y": null,
            "padding": null,
            "right": null,
            "top": null,
            "visibility": null,
            "width": null
          }
        },
        "64c6385dff7a4492990c2c8bb8635583": {
          "model_module": "@jupyter-widgets/controls",
          "model_name": "ProgressStyleModel",
          "model_module_version": "1.5.0",
          "state": {
            "_model_module": "@jupyter-widgets/controls",
            "_model_module_version": "1.5.0",
            "_model_name": "ProgressStyleModel",
            "_view_count": null,
            "_view_module": "@jupyter-widgets/base",
            "_view_module_version": "1.2.0",
            "_view_name": "StyleView",
            "bar_color": null,
            "description_width": ""
          }
        },
        "ca5040dde7704c23b7a05460db7e0e6d": {
          "model_module": "@jupyter-widgets/base",
          "model_name": "LayoutModel",
          "model_module_version": "1.2.0",
          "state": {
            "_model_module": "@jupyter-widgets/base",
            "_model_module_version": "1.2.0",
            "_model_name": "LayoutModel",
            "_view_count": null,
            "_view_module": "@jupyter-widgets/base",
            "_view_module_version": "1.2.0",
            "_view_name": "LayoutView",
            "align_content": null,
            "align_items": null,
            "align_self": null,
            "border": null,
            "bottom": null,
            "display": null,
            "flex": null,
            "flex_flow": null,
            "grid_area": null,
            "grid_auto_columns": null,
            "grid_auto_flow": null,
            "grid_auto_rows": null,
            "grid_column": null,
            "grid_gap": null,
            "grid_row": null,
            "grid_template_areas": null,
            "grid_template_columns": null,
            "grid_template_rows": null,
            "height": null,
            "justify_content": null,
            "justify_items": null,
            "left": null,
            "margin": null,
            "max_height": null,
            "max_width": null,
            "min_height": null,
            "min_width": null,
            "object_fit": null,
            "object_position": null,
            "order": null,
            "overflow": null,
            "overflow_x": null,
            "overflow_y": null,
            "padding": null,
            "right": null,
            "top": null,
            "visibility": null,
            "width": null
          }
        },
        "4c84a622f8364e05a21c585dca34cc12": {
          "model_module": "@jupyter-widgets/controls",
          "model_name": "DescriptionStyleModel",
          "model_module_version": "1.5.0",
          "state": {
            "_model_module": "@jupyter-widgets/controls",
            "_model_module_version": "1.5.0",
            "_model_name": "DescriptionStyleModel",
            "_view_count": null,
            "_view_module": "@jupyter-widgets/base",
            "_view_module_version": "1.2.0",
            "_view_name": "StyleView",
            "description_width": ""
          }
        }
      }
    }
  },
  "cells": [
    {
      "cell_type": "code",
      "execution_count": null,
      "metadata": {
        "id": "SLuILeV5UL2z"
      },
      "outputs": [],
      "source": [
        "!pip install accelerate -U -q\n",
        "!pip install git+https://github.com/Bots-Avatar/ExplainitAll -q"
      ]
    },
    {
      "cell_type": "code",
      "source": [
        "from transformers import GPT2Tokenizer, GPT2LMHeadModel\n",
        "from explainitall.fast_tuning.trainers.HMMTrainer import GPT2HMMDataProcessor\n",
        "from explainitall.fast_tuning.generators import GeneratorWithExpert\n",
        "from explainitall.fast_tuning.generators import MCExpert\n",
        "from explainitall.fast_tuning.generators import MCModel\n",
        "from explainitall.fast_tuning.trainers.ProjectionTrainer import GPTProjectionTrainer\n",
        "from explainitall.fast_tuning.ExpertBase import ExpertModel\n",
        "import numpy as np\n",
        "import torch\n",
        "import re"
      ],
      "metadata": {
        "id": "9K1hkj28Uz69"
      },
      "execution_count": null,
      "outputs": []
    },
    {
      "cell_type": "markdown",
      "source": [
        "# Датасет\n",
        "Создание и сохранение датасета (полстранички из Википедии)\n",
        "\n",
        "---"
      ],
      "metadata": {
        "id": "J8_5_VjhYwWf"
      }
    },
    {
      "cell_type": "code",
      "source": [
        "text_data = '''Электро́нная лампа, радиолампа — электровакуумный прибор (точнее, вакуумный электронный прибор), работающий за счёт управления интенсивностью потока электронов, движущихся в вакууме или разрежённом газе между электродами[1].\n",
        "Радиолампы массово использовались в XX веке как основные элементы радиоаппаратуры, так как позволяют выпрямлять ток, усиливать, генерировать электрические сигналы и т. п. С появлением полупроводниковых приборов (диодов, транзисторов) радиолампы стали вытесняться из радиоаппаратуры, так как полупроводниковые приборы оказались значительно компактнее и экономичнее. В настоящее время радиолампы встречаются там, где полупроводниковые аналоги получаются дороже или сложнее в изготовлении, например в качестве мощного генератора радиоволн в микроволновой печи используется радиолампа — магнетрон. Также радиолампы традиционно используются в некоторых видах аудиоаппаратуры, позиционируемой как высококачественная (high-end).\n",
        "Электронные лампы, предназначенные для освещения (лампы-вспышки, ксеноновые лампы, ртутные и натриевые лампы), радиолампами не называются и обычно относятся к классу осветительных приборов.\n",
        "Электронно-лучевые приборы основаны на тех же принципах, что и радиолампы, но, помимо управления интенсивностью электронного потока, также управляют распределением электронов в пространстве и потому выделяются в отдельную группу. Также в отдельную группу выделяют СВЧ-электровакуумные приборы, основанные на взаимодействии электронного потока с электромагнитным полем в таких приборах как магнетрон, клистрон и др.\n",
        "Самая простая радиолампа имеет колбу, внутри которой размещены два электрода — катод и анод. Катод разогревается от источника тока до температуры, когда из него вследствие термоэлектронной эмиссии могут вылетать электроны, и свободно перемещаться внутри вакуума колбы. Электроны имеют отрицательный заряд, и если на второй электрод, анод, будет подан положительный потенциал, электроны устремятся к аноду, попадут в него и создадут ток в цепи анод-катод. Если на анод подать отрицательный потенциал, то электроны имея одноимённый заряд будут отталкиваться от анода, и ток в цепи протекать не будет. Такая простая радиолампа называется кенотрон и пригодна для выпрямления переменного тока в постоянный ток, так как проводит ток только в одном направлении.\n",
        "Более сложная радиолампа — триод устроена так же, но имеет ещё и третий электрод — сетку, расположенную между анодом и катодом. Если потенциал на сетке отсутствует, а на аноде потенциал положительный, то все электроны вылетевшие с катода устремляются к аноду и создают ток в цепи анода. Если подать на сетку небольшой отрицательный потенциал, то она своим полем сможет отклонять часть электронов на пути к аноду, тем самым уменьшая ток анода. Чем выше отрицательный потенциал на сетке — тем бо́льшая часть электронов будет отклонена, тем меньше ток анода. Если подать на сетку достаточно большой отрицательный потенциал — то лампа окажется «заперта» — ток в цепи анода прекратится. Такая лампа может работать как усилитель, если подать на сетку слабый электрический сигнал, то он вызовет синхронные изменения тока анода, причем на ощутимо бо́льшие величины.\n",
        "Различные усложнения конструкции лампы — применение катода косвенного накала, введение дополнительных сеток, изменение формы колбы или введение в него небольшого количества газа улучшают одни параметры лампы, ухудшая другие, но основной принцип работы радиолампы не меняется — управление потоком электронов от катода к аноду при помощи электрического поля сеток.\n",
        "Существенным недостатком радиоламп является её размер и необходимость постоянно тратить энергию на поддержание катода в нагретом состоянии (кроме ламп с холодным катодом).\n",
        "Вакуумные электронные лампы с подогревным катодом\n",
        "В результате термоэлектронной эмиссии электроны покидают катод.\n",
        "Под воздействием напряжения между анодом и катодом электроны достигают анода и образуют анодный ток во внешней цепи.\n",
        "С помощью дополнительных электродов (сеток) осуществляется управление электронным потоком путём подачи на эти электроды электрических напряжений.\n",
        "Электронная лампа RCA '808'\n",
        "В вакуумных электронных лампах наличие газа ухудшает характеристики лампы.\n",
        "Газоразрядные электронные лампы\n",
        "В СССР и в России традиционно выделяются в отдельный класс ионных приборов в отличие от вакуумных ламп. Основной ток проводимости в этих устройствах вызван потоком ионов в газе, наполняющем лампу. Ионизация газа может вызываться соударениями атомов или молекул газа с электронами, как и в вакуумных лампах эмиттируемыми накалённым катодом, а может создаваться самоподдерживающимся разрядом в разреженном газе за счёт ускорения ионов электрическим полем. Как правило, такие лампы используются либо в низкочастотных и импульсных генераторах (тиратроны), либо в схемах управляемых выпрямителей, часто с высокими выходными токами — схемы на игнитронах.\n",
        "Типы газоразрядных электронных ламп:\n",
        "неоновая лампа;\n",
        "газоразрядный стабилитрон;\n",
        "ионный разрядник;\n",
        "тиратрон;\n",
        "игнитрон.\n",
        "Неоновая лампа\n",
        "Неоновая лампа — разновидность газоразрядного прибора тлеющего разряда, представляет собой стеклянный баллона в котором располагаются два электрода. Баллон наполнен инертным газом (неоном) при небольшом давлении. Электроды изготавливаются из металла, например никеля, и могут быть различной формы (два цилиндрических, два плоских и др.)\n",
        "Неоновые лампы излучают оранжево-красный свет небольшой интенсивности и используются, в основном, как индикаторные. Неоновую лампу подключают к источнику напряжения последовательно с ограничительным резистором, иначе разряд сразу переходит в дуговой и лампа выходит из строя.\n",
        "Стабилитрон\n",
        "Газоразрядный стабилитрон представляет собой стеклянный баллон, в котором находятся два электрода — катод и анод. Катод имеет форму цилиндра с большой поверхностью, анод — стержень, расположенный вдоль оси катода. Внутренняя поверхность катода активируется. Баллон наполняется аргоном, неоном или смесью газов при давлении в несколько десятков миллиметров ртутного столба. Благодаря большой поверхности катода, напряжение между электродами при значительных изменениях тока тлеющего разряда остается неизменным.\n",
        "Параметрами стабилитрона являются: напряжение зажигания, напряжение горения, минимальный и максимальный ток. Величина напряжения стабилизации зависит от вида газа и материала катода, которым наполнен баллон.\n",
        "Стабилитрон с коронным разрядом\n",
        "Кроме стабилитронов с тлеющим разрядом, описанных выше, существуют стабилитроны с коронным разрядом. Устройство данных стабилитронов схоже со стабилитронами тлеющего разряда. Баллон наполняется водородом при низком давлении. Стабилитроны с коронным разрядом имеют в несколько раз более высокие значения напряжения горения, и позволяют стабилизировать напряжение порядка 300—1000 В и более. Однако ток, проходящий через такой стабилитрон в сотни раз меньше чем у стабилитронов с тлеющим разрядом[2].\n",
        "'''"
      ],
      "metadata": {
        "id": "130YCBYYW4ZU"
      },
      "execution_count": null,
      "outputs": []
    },
    {
      "cell_type": "markdown",
      "source": [
        "# Загрузка основной модели\n",
        "\n",
        "Загрузка модели \"rugpt3large_based_on_gpt2\"."
      ],
      "metadata": {
        "id": "69fO2KfNZ_hQ"
      }
    },
    {
      "cell_type": "code",
      "source": [
        "path = 'ai-forever/rugpt3large_based_on_gpt2'\n",
        "tokenizer = GPT2Tokenizer.from_pretrained(path)\n",
        "gpt = GPT2LMHeadModel.from_pretrained(path)\n",
        "gpt.to('cuda')"
      ],
      "metadata": {
        "id": "76xFfzMPXDhr"
      },
      "execution_count": null,
      "outputs": []
    },
    {
      "cell_type": "markdown",
      "source": [
        "# Создание и тестирование эксперта на базе марковской цепи"
      ],
      "metadata": {
        "id": "wAOiAIIWaeEE"
      }
    },
    {
      "cell_type": "code",
      "source": [
        "%%time\n",
        "text = text_data.replace('\\n', ' ').replace('  ', ' ')\n",
        "hmm_expert_creator = GPT2HMMDataProcessor(tokenizer)\n",
        "tokens = hmm_expert_creator.get_data_1(re.split('\\.|,', text))\n",
        "data = hmm_expert_creator.create_data(tokens)\n",
        "hmm_expert_states = hmm_expert_creator.train(data)\n",
        "\n",
        "bias_mask = set(tokens.flatten()) # Маска для смещения (словарь токенов)\n",
        "\n",
        "l_v = tokenizer.vocab_size\n",
        "mc_model = MCModel.MarkovModel(l_v, data['x_encoder'], data['y_decoder'], model=hmm_expert_states)\n",
        "hmm_expert = MCExpert.MCExpert(mc_model)\n",
        "l_v"
      ],
      "metadata": {
        "id": "B54XE1fIXQGa"
      },
      "execution_count": null,
      "outputs": []
    },
    {
      "cell_type": "code",
      "source": [
        "# Простой(жадный) генератор для эксперта\n",
        "def generate(input_text, expert, tokenizer, len_t = 30):\n",
        "  t = tokenizer.encode(input_text)\n",
        "  tokens_expert = t\n",
        "\n",
        "  for i in range(len_t):\n",
        "    input_tok = tokens_expert\n",
        "    outp_token = np.argmax(expert.get_bias(input_tok))\n",
        "    tokens_expert.append(outp_token)\n",
        "\n",
        "  return tokenizer.decode(tokens_expert)"
      ],
      "metadata": {
        "id": "O3n-RWceYWag"
      },
      "execution_count": null,
      "outputs": []
    },
    {
      "cell_type": "code",
      "source": [
        "generate(\"Лампа\",hmm_expert, tokenizer)"
      ],
      "metadata": {
        "id": "cUC9lq6RpldA"
      },
      "execution_count": null,
      "outputs": []
    },
    {
      "cell_type": "markdown",
      "source": [
        "# Обучение слоев проекций основной сети\n"
      ],
      "metadata": {
        "id": "Yq-S7E0Oa8y2"
      }
    },
    {
      "cell_type": "code",
      "source": [
        "%%time\n",
        "trainer = GPTProjectionTrainer(gpt, tokenizer)\n",
        "trainer.train([text_data],bias_mask, num_train_epochs = 60)"
      ],
      "metadata": {
        "id": "RZycJ7ImZyki",
        "colab": {
          "base_uri": "https://localhost:8080/",
          "height": 217
        },
        "outputId": "fc83e43d-4b30-45bb-d5c4-8c7d88042ff1"
      },
      "execution_count": null,
      "outputs": [
        {
          "output_type": "stream",
          "name": "stderr",
          "text": [
            "/usr/local/lib/python3.10/dist-packages/transformers/data/datasets/language_modeling.py:53: FutureWarning: This dataset will be removed from the library soon, preprocessing should be handled with the 🤗 Datasets library. You can have a look at this example script for pointers: https://github.com/huggingface/transformers/blob/main/examples/pytorch/language-modeling/run_mlm.py\n",
            "  warnings.warn(\n",
            "/usr/local/lib/python3.10/dist-packages/accelerate/accelerator.py:432: FutureWarning: Passing the following arguments to `Accelerator` is deprecated and will be removed in version 1.0 of Accelerate: dict_keys(['dispatch_batches', 'split_batches', 'even_batches', 'use_seedable_sampler']). Please pass an `accelerate.DataLoaderConfiguration` instead: \n",
            "dataloader_config = DataLoaderConfiguration(dispatch_batches=None, split_batches=False, even_batches=True, use_seedable_sampler=True)\n",
            "  warnings.warn(\n"
          ]
        },
        {
          "output_type": "display_data",
          "data": {
            "text/plain": [
              "<IPython.core.display.HTML object>"
            ],
            "text/html": [
              "\n",
              "    <div>\n",
              "      \n",
              "      <progress value='180' max='180' style='width:300px; height:20px; vertical-align: middle;'></progress>\n",
              "      [180/180 00:54, Epoch 60/60]\n",
              "    </div>\n",
              "    <table border=\"1\" class=\"dataframe\">\n",
              "  <thead>\n",
              " <tr style=\"text-align: left;\">\n",
              "      <th>Step</th>\n",
              "      <th>Training Loss</th>\n",
              "    </tr>\n",
              "  </thead>\n",
              "  <tbody>\n",
              "  </tbody>\n",
              "</table><p>"
            ]
          },
          "metadata": {}
        },
        {
          "output_type": "stream",
          "name": "stdout",
          "text": [
            "CPU times: user 55.8 s, sys: 130 ms, total: 55.9 s\n",
            "Wall time: 57.3 s\n"
          ]
        }
      ]
    },
    {
      "cell_type": "markdown",
      "source": [
        "# Генерация"
      ],
      "metadata": {
        "id": "j6KS4AnSbR24"
      }
    },
    {
      "cell_type": "code",
      "source": [
        "gpt.eval()"
      ],
      "metadata": {
        "id": "t9Sn-m1q-nl9"
      },
      "execution_count": null,
      "outputs": []
    },
    {
      "cell_type": "code",
      "source": [
        "trainer.set_variety(bias_mask, 1)"
      ],
      "metadata": {
        "id": "7C_sIajQvsjN"
      },
      "execution_count": null,
      "outputs": []
    },
    {
      "cell_type": "code",
      "source": [
        "%%time\n",
        "gpt.to('cpu')\n",
        "\n",
        "input_ids = tokenizer.encode('Радиолампа состоит из', return_tensors='pt').to(gpt.device)\n",
        "\n",
        "\n",
        "output_sequences = gpt.generate(\n",
        "    input_ids=input_ids,\n",
        "    max_length=35,\n",
        "    # temperature=0.7,\n",
        "    #top_p=0.95,\n",
        "    repetition_penalty=1.2,\n",
        "    num_beams=4,\n",
        "    num_return_sequences=1,\n",
        "    #do_sample=True\n",
        ")\n",
        "\n",
        "generated_text = tokenizer.decode(output_sequences[0], skip_special_tokens=True)\n",
        "\n",
        "print(generated_text)"
      ],
      "metadata": {
        "id": "6nBK0c8iaX-q",
        "colab": {
          "base_uri": "https://localhost:8080/"
        },
        "outputId": "20d4c3b9-fca7-4364-b60a-a9d2d9afe122"
      },
      "execution_count": null,
      "outputs": [
        {
          "output_type": "stream",
          "name": "stdout",
          "text": [
            "Радиолампа состоит из стеклянного баллона, заполненного инертным газом, закрытого колбой, и сетевого шнура.\n",
            "Радиолам\n",
            "CPU times: user 18.7 s, sys: 1.59 s, total: 20.3 s\n",
            "Wall time: 20.4 s\n"
          ]
        }
      ]
    },
    {
      "cell_type": "code",
      "source": [
        "%%time\n",
        "g_model =  GeneratorWithExpert.GenerationWithProbs(gpt, tokenizer, bias_mask)\n",
        "g_model.generate('Радиолампа состоит из', temperature = 0, variety=0.2)"
      ],
      "metadata": {
        "colab": {
          "base_uri": "https://localhost:8080/",
          "height": 70
        },
        "id": "afyKkWpezbQT",
        "outputId": "4ea0601b-07bd-4f45-d201-fe527e72732d"
      },
      "execution_count": null,
      "outputs": [
        {
          "output_type": "stream",
          "name": "stdout",
          "text": [
            "CPU times: user 7.19 s, sys: 165 ms, total: 7.35 s\n",
            "Wall time: 7.33 s\n"
          ]
        },
        {
          "output_type": "execute_result",
          "data": {
            "text/plain": [
              "'Радиолампа состоит из стеклянного баллона, заполненного инертным газом. Баллон помещается в специальный держатель и закрепляется'"
            ],
            "application/vnd.google.colaboratory.intrinsic+json": {
              "type": "string"
            }
          },
          "metadata": {},
          "execution_count": 13
        }
      ]
    },
    {
      "cell_type": "code",
      "source": [
        "# Генерация с экспертом\n",
        "start = 'Радиолампа состоит из'\n",
        "generator_with_expert = GeneratorWithExpert.GPTGenerator(expert=hmm_expert, model=gpt, tokenizer=tokenizer, device='cuda:0')\n",
        "end = generator_with_expert.Generate(start, expert_w=0.6, max_len=40, num_seq=1, temperature=0.1)[0]\n",
        "\n",
        "print(start + end)"
      ],
      "metadata": {
        "colab": {
          "base_uri": "https://localhost:8080/"
        },
        "id": "j-YtznwaatY1",
        "outputId": "c6c0ab6e-b7ce-42ab-e746-0e965d636288"
      },
      "execution_count": null,
      "outputs": [
        {
          "output_type": "stream",
          "name": "stdout",
          "text": [
            "Радиолампа состоит из стеклянного баллона, заполненного инертным газом (неоном) при небольшом давлении. Баллон наполнен инертным газом (неоном) при небольшом давлении.\n",
            "Ради\n"
          ]
        }
      ]
    },
    {
      "cell_type": "markdown",
      "source": [
        "# GPT Эксперт"
      ],
      "metadata": {
        "id": "xOPeR0eHePe-"
      }
    },
    {
      "cell_type": "code",
      "source": [
        "path = 'ai-forever/rugpt3small_based_on_gpt2'\n",
        "tokenizer = GPT2Tokenizer.from_pretrained(path)\n",
        "gpt_ex_m = GPT2LMHeadModel.from_pretrained(path)\n",
        "gpt_ex_m = gpt_ex_m.to('cuda')"
      ],
      "metadata": {
        "id": "PhHD5bZpeOIj",
        "colab": {
          "base_uri": "https://localhost:8080/",
          "height": 209,
          "referenced_widgets": [
            "f564f801a3834a91b1319c8db1c9dc2e",
            "97ca4b388a6645c19b80d8f080526031",
            "6f720a542a19475c87c2aebfa9112868",
            "00c6a76097fa4714b3a36c3ec383268c",
            "23ebd9704fcb40e1beb33331dbe7a9b9",
            "c29c7c41b0a541a3ad141553cd6ace0c",
            "333f76c850044c7bb3d9e57ba8c88156",
            "2c39eb6db4cd44649054353e128bc375",
            "6aa6f10691554a62957f901b780b8135",
            "39d45335fff74a66af3a95f122a391b4",
            "0ce026ac10c346688dd28b91ad870b03",
            "329f219136c8497698195e9a51a3dca4",
            "e5d2bb61110745e0b2afb4a51cfce67b",
            "5a731ca572a24bb5b17c58a8d90a5409",
            "863ea2aaad5742bd9d709689c5c5422c",
            "218449ae0a4d4859b1f63d0abc364e91",
            "11706a29545c43118f9c93ba2e41d872",
            "6255d617bebe4234be503299b18f84a3",
            "7bb03b14b14349e0a9a405a2966b6ba2",
            "db44be48eeb1492281d260422a2c1fa4",
            "44ac247f5dda43939b12837b74e128c4",
            "28b46da51b44481cb645e875c3f229d6",
            "8418c384b4d64b089ba68db70f4e0984",
            "4eb6416c191f46edb1550e51b8ea9ee2",
            "b2605a1a437145a4b3e6cb012a6c5d02",
            "6689d8a6da1a4157aadb1a1a5861a5fe",
            "5895781171494fc9b437154dfa8561e8",
            "e1796f00d8694980be057df78bf6936d",
            "d747069420574fa69a30910078849c76",
            "55d86617a49e4426af18d1398ca20786",
            "f7c9d0d69ced4201bbf455bee2743ce8",
            "f16cd3a4f0c841a8bc0dac8e7a0d6793",
            "d4b7d706bb524023b13e8e0008ea5528",
            "ecf15580debe4af0b46d658e364f18a4",
            "bf7406dab130423da16ca9021865d7dc",
            "d411bb6bd75242f3a8d20205dcfec825",
            "490e204032ad4d68bf50a3c2aaacec5b",
            "8f49b3df96c546c9a0072dd1934350ab",
            "0941a15939fd49cdad4984049a4bab43",
            "e203b7ecd0f54befbf80fe7ca4b5b6f4",
            "b3edec3aecec449b9016d85543501d33",
            "2062fd5344644efe83280110a57ce2bb",
            "4713a1f85cb840a9915bd818903bdfef",
            "4a23a7005d294b41907bfc8cf4c512c0",
            "399aececeeb24d59b83de588053152dd",
            "42071d3be8a64d5a9dd0d4f144024554",
            "18cd73a91d734d9ba7f54c4e67ffb072",
            "1cb15fe8d77e434cbaf0d99e24c177dc",
            "f9fc006081a0488c95e3eb0c7c9dc9b5",
            "26d20cf586c64f1790cc4ce2fbc1307f",
            "3dc19642fd4549098054185c4f6ca7a0",
            "372682efe97e43fdb91a4387576050db",
            "01840c85fd604c7484eacc617fa6f393",
            "d3c28bda4e2742e3bcb78bbf343d49e8",
            "847c04c8b3864bc2910a244dab063c5b",
            "1bbb5009b38a439888caa335e356f383",
            "4bc4aaa310914739875f4e0b0288ae5c",
            "196e7e818bcd479dbf5a7e573b7e0377",
            "3b55aa5495284a53827a54c6931ee9f0",
            "717fee83243943bc8d72f8ba0dcc49dc",
            "5ddf96c9139f4e77b8c2a9706e16ce1a",
            "497c26a7190c40b9b9a4babbcd0be1d5",
            "57a882cccc8d43c4ab82df67960691f4",
            "64c6385dff7a4492990c2c8bb8635583",
            "ca5040dde7704c23b7a05460db7e0e6d",
            "4c84a622f8364e05a21c585dca34cc12"
          ]
        },
        "outputId": "0af215ad-f2f8-470c-e536-d734ba78debd"
      },
      "execution_count": null,
      "outputs": [
        {
          "output_type": "display_data",
          "data": {
            "text/plain": [
              "tokenizer_config.json:   0%|          | 0.00/1.25k [00:00<?, ?B/s]"
            ],
            "application/vnd.jupyter.widget-view+json": {
              "version_major": 2,
              "version_minor": 0,
              "model_id": "f564f801a3834a91b1319c8db1c9dc2e"
            }
          },
          "metadata": {}
        },
        {
          "output_type": "display_data",
          "data": {
            "text/plain": [
              "vocab.json:   0%|          | 0.00/1.71M [00:00<?, ?B/s]"
            ],
            "application/vnd.jupyter.widget-view+json": {
              "version_major": 2,
              "version_minor": 0,
              "model_id": "329f219136c8497698195e9a51a3dca4"
            }
          },
          "metadata": {}
        },
        {
          "output_type": "display_data",
          "data": {
            "text/plain": [
              "merges.txt:   0%|          | 0.00/1.27M [00:00<?, ?B/s]"
            ],
            "application/vnd.jupyter.widget-view+json": {
              "version_major": 2,
              "version_minor": 0,
              "model_id": "8418c384b4d64b089ba68db70f4e0984"
            }
          },
          "metadata": {}
        },
        {
          "output_type": "display_data",
          "data": {
            "text/plain": [
              "special_tokens_map.json:   0%|          | 0.00/574 [00:00<?, ?B/s]"
            ],
            "application/vnd.jupyter.widget-view+json": {
              "version_major": 2,
              "version_minor": 0,
              "model_id": "ecf15580debe4af0b46d658e364f18a4"
            }
          },
          "metadata": {}
        },
        {
          "output_type": "display_data",
          "data": {
            "text/plain": [
              "config.json:   0%|          | 0.00/720 [00:00<?, ?B/s]"
            ],
            "application/vnd.jupyter.widget-view+json": {
              "version_major": 2,
              "version_minor": 0,
              "model_id": "399aececeeb24d59b83de588053152dd"
            }
          },
          "metadata": {}
        },
        {
          "output_type": "display_data",
          "data": {
            "text/plain": [
              "pytorch_model.bin:   0%|          | 0.00/551M [00:00<?, ?B/s]"
            ],
            "application/vnd.jupyter.widget-view+json": {
              "version_major": 2,
              "version_minor": 0,
              "model_id": "1bbb5009b38a439888caa335e356f383"
            }
          },
          "metadata": {}
        }
      ]
    },
    {
      "cell_type": "code",
      "source": [
        "%%time\n",
        "# Обучаем все слои проекции эксперта\n",
        "trainer = GPTProjectionTrainer(gpt_ex_m, tokenizer)\n",
        "trainer.train([text_data],bias_mask, num_train_epochs = 40, last_k=12, output_dir='s', variety=0.1)"
      ],
      "metadata": {
        "colab": {
          "base_uri": "https://localhost:8080/",
          "height": 110
        },
        "id": "2m9oKRTQerxp",
        "outputId": "f4905c55-e8f8-499d-bd09-df7d5991beae"
      },
      "execution_count": null,
      "outputs": [
        {
          "output_type": "display_data",
          "data": {
            "text/plain": [
              "<IPython.core.display.HTML object>"
            ],
            "text/html": [
              "\n",
              "    <div>\n",
              "      \n",
              "      <progress value='120' max='120' style='width:300px; height:20px; vertical-align: middle;'></progress>\n",
              "      [120/120 00:11, Epoch 40/40]\n",
              "    </div>\n",
              "    <table border=\"1\" class=\"dataframe\">\n",
              "  <thead>\n",
              " <tr style=\"text-align: left;\">\n",
              "      <th>Step</th>\n",
              "      <th>Training Loss</th>\n",
              "    </tr>\n",
              "  </thead>\n",
              "  <tbody>\n",
              "  </tbody>\n",
              "</table><p>"
            ]
          },
          "metadata": {}
        },
        {
          "output_type": "stream",
          "name": "stdout",
          "text": [
            "CPU times: user 10.3 s, sys: 255 ms, total: 10.6 s\n",
            "Wall time: 12.6 s\n"
          ]
        }
      ]
    },
    {
      "cell_type": "code",
      "source": [
        "# Создание эксперта из gpt\n",
        "\n",
        "class GPTExpert(ExpertModel):\n",
        "\n",
        "      def __init__(self, gpt_ex_m, len_v) -> None:\n",
        "         super().__init__()\n",
        "         self.gpt = gpt_ex_m\n",
        "         self.len_v = len_v\n",
        "         self.gpt.eval()\n",
        "\n",
        "      def get_bias(self, tokens):\n",
        "        \"\"\"Вычисление bias из вероятностной модели\"\"\"\n",
        "        tokens_ = torch.tensor([tokens]).to(self.gpt.device)\n",
        "\n",
        "        with torch.no_grad():\n",
        "          outp = self.gpt(tokens_)\n",
        "        return outp['logits'][0][-1].cpu().detach().numpy()[:self.len_v]"
      ],
      "metadata": {
        "id": "oWC639guftSS"
      },
      "execution_count": null,
      "outputs": []
    },
    {
      "cell_type": "code",
      "source": [
        "gpt_ex_m.eval()\n",
        "gpt_expert = GPTExpert(gpt_ex_m, 50257)"
      ],
      "metadata": {
        "id": "aDoIubJNlcaq"
      },
      "execution_count": null,
      "outputs": []
    },
    {
      "cell_type": "code",
      "source": [
        "# Генерация экспертом\n",
        "generate(\"<s> Радиолампа состоит из\", gpt_expert, tokenizer)"
      ],
      "metadata": {
        "colab": {
          "base_uri": "https://localhost:8080/",
          "height": 36
        },
        "id": "K7A-xn5AlZLB",
        "outputId": "6ec6efd9-b1a2-47a6-c8b2-365dc7557cf4"
      },
      "execution_count": null,
      "outputs": [
        {
          "output_type": "execute_result",
          "data": {
            "text/plain": [
              "'<s> Радиолампа состоит из анода и катода, и потому называется катодом.\\nЭлектронная лампа имеет два электрода — катод и сетку. Катод разог'"
            ],
            "application/vnd.google.colaboratory.intrinsic+json": {
              "type": "string"
            }
          },
          "metadata": {},
          "execution_count": 50
        }
      ]
    },
    {
      "cell_type": "code",
      "source": [
        "start = 'Радиолампа состоит из '\n",
        "generator_with_expert = GeneratorWithExpert.GPTGenerator(expert=gpt_expert, model=gpt, tokenizer=tokenizer, device='cuda:0')\n",
        "end = generator_with_expert.Generate(start, expert_w=0.4, max_len=40, num_seq=1, temperature=0.1)[0]\n",
        "\n",
        "print(start + end)"
      ],
      "metadata": {
        "colab": {
          "base_uri": "https://localhost:8080/"
        },
        "id": "GOBFREf9l9xQ",
        "outputId": "e8edc9fd-697a-47c8-d89a-fce6cae93d99"
      },
      "execution_count": null,
      "outputs": [
        {
          "output_type": "stream",
          "name": "stdout",
          "text": [
            "Радиолампа состоит из \n",
            "электрода, катода, сетки, колбы,\n",
            "и небольшого количества газа, заполняющего её.\n",
            "Радиолампы\n",
            "Радиолампы\n",
            "Радиолам\n"
          ]
        }
      ]
    },
    {
      "cell_type": "markdown",
      "source": [
        "# Без тюнинга основной GPT"
      ],
      "metadata": {
        "id": "uFCbOaOgvfoQ"
      }
    },
    {
      "cell_type": "code",
      "source": [
        "# Используем gpt-large без тюнинга, только с экспертом\n",
        "path = 'ai-forever/rugpt3large_based_on_gpt2'\n",
        "tokenizer = GPT2Tokenizer.from_pretrained(path)\n",
        "gpt_L = GPT2LMHeadModel.from_pretrained(path)\n",
        "gpt_L.to('cuda')"
      ],
      "metadata": {
        "id": "4aFuHdZhp9my"
      },
      "execution_count": null,
      "outputs": []
    },
    {
      "cell_type": "code",
      "source": [
        "gpt_expert = GPTExpert(gpt_ex_m, 50257)"
      ],
      "metadata": {
        "id": "04GY83gQxlo9"
      },
      "execution_count": null,
      "outputs": []
    },
    {
      "cell_type": "code",
      "source": [
        "%%time\n",
        "start = 'Радиолампа состоит из '\n",
        "generator_with_expert = GeneratorWithExpert.GPTGenerator(expert=gpt_expert, model=gpt_L, tokenizer=tokenizer, device='cuda:0')\n",
        "end = generator_with_expert.Generate(start, expert_w=0.6, max_len=70, num_seq=1, temperature=0.1, rp=1.5)[0]\n",
        "\n",
        "print(start + end)"
      ],
      "metadata": {
        "colab": {
          "base_uri": "https://localhost:8080/"
        },
        "id": "2QMHOBd0qED-",
        "outputId": "ab20bbae-3fd2-44f4-fb40-07496d95a872"
      },
      "execution_count": null,
      "outputs": [
        {
          "output_type": "stream",
          "name": "stdout",
          "text": [
            "Радиолампа состоит из \n",
            "электронного блока, в котором размещены два электрода — катод и анод. Электроды располагаются на аноде и катоде, и при помощи электрического поля создают ток в цепи анода. Электроды подключаются к аноду через резисторы, и ток в цепи анода передается на анод. Если подать на анод перемен\n",
            "CPU times: user 3.33 s, sys: 11.7 ms, total: 3.35 s\n",
            "Wall time: 3.43 s\n"
          ]
        }
      ]
    }
  ]
}