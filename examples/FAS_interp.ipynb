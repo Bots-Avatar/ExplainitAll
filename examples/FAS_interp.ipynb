{
  "nbformat": 4,
  "nbformat_minor": 0,
  "metadata": {
    "colab": {
      "provenance": [],
      "gpuType": "T4"
    },
    "kernelspec": {
      "name": "python3",
      "language": "python",
      "display_name": "Python 3"
    },
    "language_info": {
        "codemirror_mode": {
          "name": "ipython",
          "version": 3
        },
        "file_extension": ".py",
        "mimetype": "text/x-python",
        "name": "python",
        "nbconvert_exporter": "python",
        "pygments_lexer": "ipython3",
        "version": "3.9.18"
      },

  },
  "cells": [
    {
      "cell_type": "code",
      "execution_count": null,
      "metadata": {
        "id": "9Yl6M_0AJpXO"
      },
      "outputs": [],
      "source": [
        "!pip install git+https://github.com/Bots-Avatar/inseq2 -q\n",
        "!pip install git+https://github.com/Bots-Avatar/ExplainitAll -q"
      ]
    },
    {
      "cell_type": "code",
      "source": [
        "import gensim\n",
        "from inseq import load_model\n",
        "\n",
        "from explainitall import viz\n",
        "from explainitall import dl\n",
        "from explainitall import interp\n",
        "import requests"
      ],
      "metadata": {
        "id": "FM7UXXtrKaFi"
      },
      "execution_count": 5,
      "outputs": []
    },
    {
      "cell_type": "code",
      "source": [
        "def load_nlp_model(nlp_model_url):\n",
        "    nlp_model_path = dl.DownloadManager.load_zip(nlp_model_url)\n",
        "    return gensim.models.KeyedVectors.load_word2vec_format(nlp_model_path, binary=True)\n",
        "\n",
        "# 'ID': 180\n",
        "# 'Размер вектора': 300\n",
        "# 'Корпус': 'Russian National Corpus'\n",
        "# 'Размер словаря': 189193\n",
        "# 'Алгоритм': 'Gensim Continuous Bag-of-Words'\n",
        "# 'Лемматизация': True\n",
        "\n",
        "nlp_model = load_nlp_model ('http://vectors.nlpl.eu/repository/20/180.zip')"
      ],
      "metadata": {
        "colab": {
          "base_uri": "https://localhost:8080/"
        },
        "id": "Thyu8xQYKdgl",
        "outputId": "ea70dfd3-7d24-4a0a-c644-7ee242eb3067"
      },
      "execution_count": 6,
      "outputs": [
        {
          "output_type": "stream",
          "name": "stderr",
          "text": [
            "Downloading: /root/.cache/180_zip: 100%|██████████| 462M/462M [00:27<00:00, 17.5MiB/s]\n",
            "Extracting: /root/.cache/180_zip_data: 100%|██████████| 4/4 [00:09<00:00,  2.41s/it]\n"
          ]
        }
      ]
    },
    {
      "cell_type": "code",
      "source": [
        "model_path = \"sberbank-ai/rugpt3small_based_on_gpt2\""
      ],
      "metadata": {
        "id": "89TSVQ1GvpmL"
      },
      "execution_count": 20,
      "outputs": []
    },
    {
      "cell_type": "code",
      "source": [
        "def load_gpt_model(gpt_model_name):\n",
        "    return load_model(model=gpt_model_name,\n",
        "                           attribution_method=\"integrated_gradients\")\n",
        "\n",
        "# 'Фреймворк': 'transformers'\n",
        "# 'Тренировочные токены': '80 млрд'\n",
        "# 'Размер контекста': 2048\n",
        "\n",
        "gpt_model = load_gpt_model(model_path)"
      ],
      "metadata": {
        "colab": {
          "base_uri": "https://localhost:8080/",
          "height": 209,
          "referenced_widgets": [
            "f0d7b2330d774f319cf091ad7e0ad883",
            "d1f8617e259948a9961a7340985e8904",
            "8a991054813c4d81af633d97f4fe080c",
            "a940cc1c2f734c6dae6b09ff82defd22",
            "eeb40825cf964fbeb6b547cc10c40ad1",
            "d2c24f4f27744f329fa987bb63b86aca",
            "3ccd01c755f94d3f8941c987a3a6d7d6",
            "48421a31158c4609b0c1930c8f03a44c",
            "2283db0f59e942eda5ad3882098a1706",
            "3b2c62dcc00f4ece8a68adc5b76914a8",
            "19523a85cc824e7fa0bb217f17683e27",
            "e303b43f6ae9463e9db660f03aaba006",
            "72bca8f422fa472bafe1b5a92d520cd6",
            "8a4e1dbb02794066b31a754e0a710514",
            "37b4ff04c60f4f63891756381bff27ad",
            "54803a58f93b48118a8ffcb217197e00",
            "3b85143ff9d74387b94d12f98c7bc56a",
            "b0471166047343f2ab2d40ded3bc5a9c",
            "48107595521640f693c939091cbfaae6",
            "1caef2ddbf414f6e96f58552cd01442d",
            "6ec25970ba1b4be79d31e2ddf6fb7e11",
            "4f7c510a976046debb16a472ab1d6510",
            "b785a831af93467c87ee377eb5a15e5f",
            "bfd920ba12734fcfad844b22e47f4980",
            "369d90aa8ea1444fabe442160f401793",
            "6b9edbdee78f4adda4223189c8826a00",
            "f9b557431e5847a6a37e0d9e65992673",
            "abec53e3929e4350a7263234f159d073",
            "90324c2cb5c747488a30187c0d3eccc9",
            "5ab7c238dbec49f2b4d9732a568c757c",
            "6b8108cd2dc54dc5887b8d3f19efdbf6",
            "98047b6cabfe42dc8294fda80c3c4f0a",
            "b1bf1e8a0f8243af8a8093cf3bffb16c",
            "d6f82a3065164b12b9eb65629ad56095",
            "d44630b0946a474ab034d61e1d7f2f92",
            "945eeded0bcd4e89942bc468164fe08e",
            "29110e6f19a24f00ab3135fd730aa608",
            "f0a438185da44e5fa352c87d98cbabfb",
            "6daf285ffe874a22bb22e70bef03705c",
            "74019cea5e2b4f13803fccd3b30a23a7",
            "74e0bfd55c044f85b2fffe737325587a",
            "eb4fbd7901584d5688f8f08b531fb1a3",
            "e190760aa7b3443ba030688fbda4862b",
            "783ac2075fd74f7e99737e02448a1697",
            "577d6ba7e63145698e93cb0bf837c73f",
            "62d95dc27cda479ea902345d93ed4c2b",
            "8895ad344db147aaa85ae4373dbc6a18",
            "6fe7e6db8792480a821352bf805834a9",
            "219e000552c44ddd80ac9f84b227ce63",
            "4a046d83cc48448b9da609b88059e8ac",
            "b5455b045bfd471d9f27fd3721413f8a",
            "c4cbe98a24eb4dc9b098598704e8558b",
            "ccb535b92769420b85cbeb9e6c9f1b19",
            "49912f1e6c4647719c218f7a2a658297",
            "946e399493844f75a9281ad36331a2a6",
            "ee0136012ada4a789c7ee5ed2a46f817",
            "ba95432e470c4a7fa32a628dcf70d4a3",
            "6548f9c163374b9b915d8a11b49d763d",
            "8a91c6d3cdf94759811d960f7f6812d7",
            "8bb0d4555668409b8517165b0bb00d59",
            "6c52c24899ae4ea9afea3a063877c7f9",
            "a79cfc837a814c37a6689f8be8eb6f3c",
            "43b10c5c3d3d45e5949271ff08705d8b",
            "bd091cb5966b470882359a45233417d9",
            "218cc5e7268d4066bc9102bbae30845e",
            "8417aecc7f8c4e1aa263438ee26ed849"
          ]
        },
        "id": "C7huvu2vKjGJ",
        "outputId": "09a32096-c8f3-4467-c474-67f0cdee02b0"
      },
      "execution_count": 7,
      "outputs": [
        {
          "output_type": "display_data",
          "data": {
            "text/plain": [
              "config.json:   0%|          | 0.00/720 [00:00<?, ?B/s]"
            ],
            "application/vnd.jupyter.widget-view+json": {
              "version_major": 2,
              "version_minor": 0,
              "model_id": "f0d7b2330d774f319cf091ad7e0ad883"
            }
          },
          "metadata": {}
        },
        {
          "output_type": "display_data",
          "data": {
            "text/plain": [
              "pytorch_model.bin:   0%|          | 0.00/551M [00:00<?, ?B/s]"
            ],
            "application/vnd.jupyter.widget-view+json": {
              "version_major": 2,
              "version_minor": 0,
              "model_id": "e303b43f6ae9463e9db660f03aaba006"
            }
          },
          "metadata": {}
        },
        {
          "output_type": "display_data",
          "data": {
            "text/plain": [
              "tokenizer_config.json:   0%|          | 0.00/1.25k [00:00<?, ?B/s]"
            ],
            "application/vnd.jupyter.widget-view+json": {
              "version_major": 2,
              "version_minor": 0,
              "model_id": "b785a831af93467c87ee377eb5a15e5f"
            }
          },
          "metadata": {}
        },
        {
          "output_type": "display_data",
          "data": {
            "text/plain": [
              "vocab.json:   0%|          | 0.00/1.71M [00:00<?, ?B/s]"
            ],
            "application/vnd.jupyter.widget-view+json": {
              "version_major": 2,
              "version_minor": 0,
              "model_id": "d6f82a3065164b12b9eb65629ad56095"
            }
          },
          "metadata": {}
        },
        {
          "output_type": "display_data",
          "data": {
            "text/plain": [
              "merges.txt:   0%|          | 0.00/1.27M [00:00<?, ?B/s]"
            ],
            "application/vnd.jupyter.widget-view+json": {
              "version_major": 2,
              "version_minor": 0,
              "model_id": "577d6ba7e63145698e93cb0bf837c73f"
            }
          },
          "metadata": {}
        },
        {
          "output_type": "display_data",
          "data": {
            "text/plain": [
              "special_tokens_map.json:   0%|          | 0.00/574 [00:00<?, ?B/s]"
            ],
            "application/vnd.jupyter.widget-view+json": {
              "version_major": 2,
              "version_minor": 0,
              "model_id": "ee0136012ada4a789c7ee5ed2a46f817"
            }
          },
          "metadata": {}
        }
      ]
    },
    {
      "cell_type": "code",
      "source": [
        "def value_interp(v):\n",
        "  if str(v) == 'nan':\n",
        "    return 'нулевой'\n",
        "  if v < 0.1:\n",
        "    return 'незначительной'\n",
        "  if v < 0.3:\n",
        "    return 'очень малой'\n",
        "  if v < 0.45:\n",
        "    return 'малой'\n",
        "  if v < 0.65:\n",
        "    return 'средней'\n",
        "  if v < 0.85:\n",
        "    return 'выше средней'\n",
        "  else:\n",
        "    return 'очень большой'\n",
        "\n",
        "def interp_w(df):\n",
        "  ret = ''\n",
        "  for index, row in df.iterrows():\n",
        "    for num_col, col in enumerate(df.columns):\n",
        "        if num_col != 0:\n",
        "          value = row[col]\n",
        "\n",
        "          description = f'Слово \"{row[df.columns[0]]}\" влияет на генерацию слова \"{col}\" с {value_interp(value)} силой. \\n'\n",
        "          ret += description\n",
        "\n",
        "  return ret + '.'\n",
        "\n",
        "def interp_cl(df):\n",
        "  ret = ''\n",
        "  for index, row in df.iterrows():\n",
        "    for num_col, col in enumerate(df.columns):\n",
        "        if num_col != 0:\n",
        "          value = row[col]\n",
        "\n",
        "          description = f'Кластер \"{row[df.columns[0]]}\" влияет на генерацию кластера \"{col}\" с {value_interp(value)} силой. \\n'\n",
        "          ret += description\n",
        "\n",
        "  return ret"
      ],
      "metadata": {
        "id": "sPDXGmIoLX0L"
      },
      "execution_count": 8,
      "outputs": []
    },
    {
      "cell_type": "code",
      "source": [
        "clusters_discr = [\n",
        "    {'name': 'Животные', 'centroid': ['собака', 'кошка', 'заяц'], 'top_k': 140},\n",
        "    {'name': 'Лекарства', 'centroid': ['уколы', 'таблетки', 'микстуры'], 'top_k': 160},\n",
        "    {'name': 'Болезни', 'centroid': ['простуда', 'орви', 'орз', 'грипп'], 'top_k': 20},\n",
        "    {'name': 'Аллергия', 'centroid': ['аллергия'], 'top_k': 20}\n",
        "]\n",
        "\n",
        "explainer = interp.ExplainerGPT2(gpt_model=gpt_model, nlp_model=nlp_model)\n",
        "\n",
        "\n",
        "input_text = 'у кошки грипп и аллергия на антибиотбиотики вопрос: чем лечить кошку? ответ:'\n",
        "generated_text = 'лечите ее уколами'\n",
        "\n",
        "expl_data = explainer.interpret(\n",
        "    input_texts=input_text,\n",
        "    generated_texts=generated_text,\n",
        "    clusters_description=clusters_discr,\n",
        "    batch_size=50,\n",
        "    steps=34,\n",
        "    # max_new_tokens=19\n",
        ")"
      ],
      "metadata": {
        "colab": {
          "base_uri": "https://localhost:8080/"
        },
        "id": "ZlTy-ASRKnFv",
        "outputId": "846b06c8-a6f5-4fd6-d620-95ce203c1c88"
      },
      "execution_count": 9,
      "outputs": [
        {
          "output_type": "stream",
          "name": "stderr",
          "text": [
            "Attributing with integrated_gradients...: 100%|██████████| 26/26 [00:07<00:00,  1.57s/it]\n"
          ]
        }
      ]
    },
    {
      "cell_type": "code",
      "source": [
        "def upload_file_to_fractalgpt(api_key, index_name, document_type, document_name, text):\n",
        "    url = 'https://fractalgpt.ru/api/qa/upload'\n",
        "    headers = {\n",
        "        'Authorization': f'Bearer {api_key}',\n",
        "        'Content-Type': 'application/json'\n",
        "    }\n",
        "\n",
        "    payload = {\n",
        "        \"index_name\": index_name,\n",
        "        \"document_type\": document_type,\n",
        "        \"document_name\": document_name,\n",
        "        \"data\": list(text.encode('utf-8'))\n",
        "    }\n",
        "\n",
        "    response = requests.post(url, headers=headers, json=payload)\n",
        "    return response\n",
        "\n",
        "def get_answer_from_fractalgpt(api_key, index_name, question):\n",
        "    url = 'https://fractalgpt.ru/api/qa/get-answer'\n",
        "    headers = {\n",
        "        'Authorization': f'Bearer {api_key}',\n",
        "        'Content-Type': 'application/json'\n",
        "    }\n",
        "    payload = {\n",
        "        \"index_name\": index_name,\n",
        "        \"question\": question\n",
        "    }\n",
        "\n",
        "    response = requests.post(url, headers=headers, json=payload)\n",
        "    return response\n",
        "\n",
        "def delete_index_fractalgpt(api_key, index_name):\n",
        "    url = f'https://fractalgpt.ru/api/qa/delete?index_name={index_name}'\n",
        "    headers = {\n",
        "        'Authorization': f'Bearer {api_key}'\n",
        "    }\n",
        "\n",
        "    response = requests.delete(url, headers=headers)\n",
        "    return response"
      ],
      "metadata": {
        "id": "1Fa2fhSkPHPm"
      },
      "execution_count": 10,
      "outputs": []
    },
    {
      "cell_type": "code",
      "source": [
        "# Результат интерпретации\n",
        "imp_df = expl_data.word_imp_norm_df\n",
        "imp_df_cl = expl_data.cluster_imp_aggr_df\n",
        "w_desc = interp_w(imp_df)\n",
        "cl_desc = interp_cl(imp_df_cl)\n",
        "text = w_desc + cl_desc\n",
        "\n",
        "data = f'Интерпретируемая фраза: {input_text} {generated_text}\\n'\n",
        "data += f\"Интерпретируемая модель: {model_path}\\n\"\n",
        "text = data+f'\\n\\nРезультат интерпретации:\\n\\n{{\\n{text}\\n}}'"
      ],
      "metadata": {
        "id": "FT12XC9vK0Mf"
      },
      "execution_count": 28,
      "outputs": []
    },
    {
      "cell_type": "code",
      "source": [
        "print(text)"
      ],
      "metadata": {
        "colab": {
          "base_uri": "https://localhost:8080/"
        },
        "id": "u2PiQxTAX8q0",
        "outputId": "99354ff5-a844-4b61-b3fd-98337f76edf1"
      },
      "execution_count": 29,
      "outputs": [
        {
          "output_type": "stream",
          "name": "stdout",
          "text": [
            "Интерпретируемая фраза: у кошки грипп и аллергия на антибиотбиотики вопрос: чем лечить кошку? ответ: лечите ее уколами\n",
            "Интерпретируемая модель: sberbank-ai/rugpt3small_based_on_gpt2\n",
            "\n",
            "\n",
            "Результат интерпретации:\n",
            "\n",
            "{\n",
            "Слово \"у\" влияет на генерацию слова \"лечите\" с средней силой. \n",
            "Слово \"у\" влияет на генерацию слова \"ее\" с малой силой. \n",
            "Слово \"у\" влияет на генерацию слова \"уколами\" с средней силой. \n",
            "Слово \"кошки\" влияет на генерацию слова \"лечите\" с очень малой силой. \n",
            "Слово \"кошки\" влияет на генерацию слова \"ее\" с очень малой силой. \n",
            "Слово \"кошки\" влияет на генерацию слова \"уколами\" с малой силой. \n",
            "Слово \"грипп\" влияет на генерацию слова \"лечите\" с малой силой. \n",
            "Слово \"грипп\" влияет на генерацию слова \"ее\" с малой силой. \n",
            "Слово \"грипп\" влияет на генерацию слова \"уколами\" с выше средней силой. \n",
            "Слово \"и\" влияет на генерацию слова \"лечите\" с незначительной силой. \n",
            "Слово \"и\" влияет на генерацию слова \"ее\" с незначительной силой. \n",
            "Слово \"и\" влияет на генерацию слова \"уколами\" с средней силой. \n",
            "Слово \"аллергия\" влияет на генерацию слова \"лечите\" с малой силой. \n",
            "Слово \"аллергия\" влияет на генерацию слова \"ее\" с малой силой. \n",
            "Слово \"аллергия\" влияет на генерацию слова \"уколами\" с выше средней силой. \n",
            "Слово \"на\" влияет на генерацию слова \"лечите\" с незначительной силой. \n",
            "Слово \"на\" влияет на генерацию слова \"ее\" с незначительной силой. \n",
            "Слово \"на\" влияет на генерацию слова \"уколами\" с очень малой силой. \n",
            "Слово \"антибиотбиотики\" влияет на генерацию слова \"лечите\" с средней силой. \n",
            "Слово \"антибиотбиотики\" влияет на генерацию слова \"ее\" с средней силой. \n",
            "Слово \"антибиотбиотики\" влияет на генерацию слова \"уколами\" с средней силой. \n",
            "Слово \"вопрос\" влияет на генерацию слова \"лечите\" с выше средней силой. \n",
            "Слово \"вопрос\" влияет на генерацию слова \"ее\" с выше средней силой. \n",
            "Слово \"вопрос\" влияет на генерацию слова \"уколами\" с очень малой силой. \n",
            "Слово \":\" влияет на генерацию слова \"лечите\" с средней силой. \n",
            "Слово \":\" влияет на генерацию слова \"ее\" с очень малой силой. \n",
            "Слово \":\" влияет на генерацию слова \"уколами\" с незначительной силой. \n",
            "Слово \"чем\" влияет на генерацию слова \"лечите\" с выше средней силой. \n",
            "Слово \"чем\" влияет на генерацию слова \"ее\" с малой силой. \n",
            "Слово \"чем\" влияет на генерацию слова \"уколами\" с малой силой. \n",
            "Слово \"лечить\" влияет на генерацию слова \"лечите\" с выше средней силой. \n",
            "Слово \"лечить\" влияет на генерацию слова \"ее\" с средней силой. \n",
            "Слово \"лечить\" влияет на генерацию слова \"уколами\" с выше средней силой. \n",
            "Слово \"кошку\" влияет на генерацию слова \"лечите\" с средней силой. \n",
            "Слово \"кошку\" влияет на генерацию слова \"ее\" с выше средней силой. \n",
            "Слово \"кошку\" влияет на генерацию слова \"уколами\" с выше средней силой. \n",
            "Слово \"?\" влияет на генерацию слова \"лечите\" с очень большой силой. \n",
            "Слово \"?\" влияет на генерацию слова \"ее\" с очень малой силой. \n",
            "Слово \"?\" влияет на генерацию слова \"уколами\" с очень малой силой. \n",
            "Слово \"ответ\" влияет на генерацию слова \"лечите\" с очень большой силой. \n",
            "Слово \"ответ\" влияет на генерацию слова \"ее\" с средней силой. \n",
            "Слово \"ответ\" влияет на генерацию слова \"уколами\" с очень малой силой. \n",
            "Слово \":\" влияет на генерацию слова \"лечите\" с очень большой силой. \n",
            "Слово \":\" влияет на генерацию слова \"ее\" с средней силой. \n",
            "Слово \":\" влияет на генерацию слова \"уколами\" с очень большой силой. \n",
            "Слово \"лечите\" влияет на генерацию слова \"лечите\" с нулевой силой. \n",
            "Слово \"лечите\" влияет на генерацию слова \"ее\" с очень большой силой. \n",
            "Слово \"лечите\" влияет на генерацию слова \"уколами\" с выше средней силой. \n",
            "Слово \"ее\" влияет на генерацию слова \"лечите\" с нулевой силой. \n",
            "Слово \"ее\" влияет на генерацию слова \"ее\" с нулевой силой. \n",
            "Слово \"ее\" влияет на генерацию слова \"уколами\" с очень большой силой. \n",
            "Слово \"уколами\" влияет на генерацию слова \"лечите\" с нулевой силой. \n",
            "Слово \"уколами\" влияет на генерацию слова \"ее\" с нулевой силой. \n",
            "Слово \"уколами\" влияет на генерацию слова \"уколами\" с нулевой силой. \n",
            ".Кластер \"Аллергия\" влияет на генерацию кластера \"Лекарства\" с выше средней силой. \n",
            "Кластер \"Болезни\" влияет на генерацию кластера \"Лекарства\" с выше средней силой. \n",
            "Кластер \"Животные\" влияет на генерацию кластера \"Лекарства\" с очень большой силой. \n",
            "Кластер \"Лекарства\" влияет на генерацию кластера \"Лекарства\" с незначительной силой. \n",
            "\n",
            "}\n"
          ]
        }
      ]
    },
    {
      "cell_type": "code",
      "source": [
        "api = 'API_KEY'"
      ],
      "metadata": {
        "id": "KjfiHTckWZat"
      },
      "execution_count": 23,
      "outputs": []
    },
    {
      "cell_type": "code",
      "source": [
        "delete_index_fractalgpt(api, 'expl_data')"
      ],
      "metadata": {
        "colab": {
          "base_uri": "https://localhost:8080/"
        },
        "id": "F3SYEsKVYP4W",
        "outputId": "c5bb674f-2a5d-453b-c523-0730d49e00aa"
      },
      "execution_count": 30,
      "outputs": [
        {
          "output_type": "execute_result",
          "data": {
            "text/plain": [
              "<Response [200]>"
            ]
          },
          "metadata": {},
          "execution_count": 30
        }
      ]
    },
    {
      "cell_type": "code",
      "source": [
        "upload_file_to_fractalgpt(api, 'expl_data', 2, 'dat', text)"
      ],
      "metadata": {
        "colab": {
          "base_uri": "https://localhost:8080/"
        },
        "id": "GZ3pUvzOQUWt",
        "outputId": "c5fe33fa-626d-4e82-a32b-8439173e9e50"
      },
      "execution_count": 31,
      "outputs": [
        {
          "output_type": "execute_result",
          "data": {
            "text/plain": [
              "<Response [200]>"
            ]
          },
          "metadata": {},
          "execution_count": 31
        }
      ]
    },
    {
      "cell_type": "code",
      "source": [
        "data_json = get_answer_from_fractalgpt(api, 'expl_data', 'Насколько важен кластер тип животного при генерации кластера лекарства?').json()\n",
        "print(data_json['answer'])"
      ],
      "metadata": {
        "colab": {
          "base_uri": "https://localhost:8080/"
        },
        "id": "e_t0domsTRP7",
        "outputId": "99b2a24d-6117-42d6-c33c-456f8c2950cc"
      },
      "execution_count": 32,
      "outputs": [
        {
          "output_type": "stream",
          "name": "stdout",
          "text": [
            "Информация из документа \"dat\" говорит о том, что при генерации кластера лекарства важен кластер типа животного. Кластер \"Животные\" влияет на генерацию кластера \"Лекарства\" с очень большой силой.\n"
          ]
        }
      ]
    }
  ]
}