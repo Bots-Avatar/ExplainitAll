{
 "cells": [
  {
   "cell_type": "code",
   "execution_count": 1,
   "id": "2aa5a4c2eea7f6a5",
   "metadata": {
    "ExecuteTime": {
     "end_time": "2024-03-31T23:38:42.574605Z",
     "start_time": "2024-03-31T23:38:42.569784Z"
    },
    "collapsed": false,
    "jupyter": {
     "outputs_hidden": false
    }
   },
   "outputs": [],
   "source": [
    "import os\n",
    "# os.environ['TEST_MODE_ON_LOW_SPEC_PC'] = 'True'"
   ]
  },
  {
   "cell_type": "code",
   "execution_count": 2,
   "id": "6e6be105",
   "metadata": {
    "ExecuteTime": {
     "end_time": "2024-03-31T23:38:42.578042Z",
     "start_time": "2024-03-31T23:38:42.575973Z"
    }
   },
   "outputs": [
    {
     "name": "stdout",
     "output_type": "stream",
     "text": [
      "\u001b[33mWARNING: typer 0.12.1 does not provide the extra 'all'\u001b[0m\u001b[33m\n",
      "\u001b[0m\u001b[33mWARNING: Running pip as the 'root' user can result in broken permissions and conflicting behaviour with the system package manager. It is recommended to use a virtual environment instead: https://pip.pypa.io/warnings/venv\u001b[0m\u001b[33m\n",
      "\u001b[0m"
     ]
    }
   ],
   "source": [
    "# from git\n",
    "# !pip install git+https://github.com/Bots-Avatar/ExplainitAll -q\n",
    "\n",
    "# from zip\n",
    "!pip install /am/ExplainitAll.zip -q"
   ]
  },
  {
   "cell_type": "code",
   "execution_count": 5,
   "id": "60df7ce2",
   "metadata": {
    "ExecuteTime": {
     "end_time": "2024-04-05T18:49:59.907480Z",
     "start_time": "2024-04-05T18:49:57.102190Z"
    }
   },
   "outputs": [],
   "source": [
    "from explainitall.metrics.RougeAndPPL.metric_calculation_interface import MetricCalculationInterface"
   ]
  },
  {
   "cell_type": "code",
   "execution_count": 6,
   "id": "ff329a8a",
   "metadata": {
    "ExecuteTime": {
     "end_time": "2024-04-05T18:50:00.973275Z",
     "start_time": "2024-04-05T18:50:00.794970Z"
    }
   },
   "outputs": [],
   "source": [
    "metric_calculation_interface = MetricCalculationInterface()"
   ]
  },
  {
   "cell_type": "code",
   "execution_count": 7,
   "id": "377e2671",
   "metadata": {
    "ExecuteTime": {
     "end_time": "2024-04-05T18:50:23.788943Z",
     "start_time": "2024-04-05T18:50:03.363796Z"
    },
    "scrolled": true
   },
   "outputs": [
    {
     "name": "stdout",
     "output_type": "stream",
     "text": [
      "Running on local URL:  http://127.0.0.1:7861\n",
      "Running on public URL: https://5c4ca8ac6d53b93c20.gradio.live\n",
      "\n",
      "This share link expires in 72 hours. For free permanent hosting and GPU upgrades, run `gradio deploy` from Terminal to deploy to Spaces (https://huggingface.co/spaces)\n"
     ]
    },
    {
     "data": {
      "text/html": [
       "<div><iframe src=\"https://5c4ca8ac6d53b93c20.gradio.live\" width=\"100%\" height=\"500\" allow=\"autoplay; camera; microphone; clipboard-read; clipboard-write;\" frameborder=\"0\" allowfullscreen></iframe></div>"
      ],
      "text/plain": [
       "<IPython.core.display.HTML object>"
      ]
     },
     "metadata": {},
     "output_type": "display_data"
    }
   ],
   "source": [
    "metric_calculation_interface.launch()"
   ]
  },
  {
   "cell_type": "code",
   "execution_count": 8,
   "id": "d6c66fd6",
   "metadata": {
    "ExecuteTime": {
     "end_time": "2024-03-31T23:39:37.429481Z",
     "start_time": "2024-03-31T23:39:35.850815Z"
    }
   },
   "outputs": [
    {
     "data": {
      "application/vnd.jupyter.widget-view+json": {
       "model_id": "2ce462cc87e240c5b51d09f4cb40108d",
       "version_major": 2,
       "version_minor": 0
      },
      "text/plain": [
       "tokenizer_config.json:   0%|          | 0.00/26.0 [00:00<?, ?B/s]"
      ]
     },
     "metadata": {},
     "output_type": "display_data"
    },
    {
     "data": {
      "application/vnd.jupyter.widget-view+json": {
       "model_id": "fcd02212255f4df78a0cd143f8eb683c",
       "version_major": 2,
       "version_minor": 0
      },
      "text/plain": [
       "vocab.json:   0%|          | 0.00/1.04M [00:00<?, ?B/s]"
      ]
     },
     "metadata": {},
     "output_type": "display_data"
    },
    {
     "data": {
      "application/vnd.jupyter.widget-view+json": {
       "model_id": "d8c0a2205c484ea1b6d0350f8ca2c35f",
       "version_major": 2,
       "version_minor": 0
      },
      "text/plain": [
       "merges.txt:   0%|          | 0.00/456k [00:00<?, ?B/s]"
      ]
     },
     "metadata": {},
     "output_type": "display_data"
    },
    {
     "data": {
      "application/vnd.jupyter.widget-view+json": {
       "model_id": "d5059c9261854d3c9821926d6892b2a5",
       "version_major": 2,
       "version_minor": 0
      },
      "text/plain": [
       "tokenizer.json:   0%|          | 0.00/1.36M [00:00<?, ?B/s]"
      ]
     },
     "metadata": {},
     "output_type": "display_data"
    },
    {
     "data": {
      "application/vnd.jupyter.widget-view+json": {
       "model_id": "8a8a68da87174bf3b1333c3191ccb352",
       "version_major": 2,
       "version_minor": 0
      },
      "text/plain": [
       "config.json:   0%|          | 0.00/762 [00:00<?, ?B/s]"
      ]
     },
     "metadata": {},
     "output_type": "display_data"
    },
    {
     "data": {
      "application/vnd.jupyter.widget-view+json": {
       "model_id": "1c39eb13bf4a40ec827a1d594cbfaf48",
       "version_major": 2,
       "version_minor": 0
      },
      "text/plain": [
       "model.safetensors:   0%|          | 0.00/353M [00:00<?, ?B/s]"
      ]
     },
     "metadata": {},
     "output_type": "display_data"
    },
    {
     "data": {
      "application/vnd.jupyter.widget-view+json": {
       "model_id": "e3c2c88a3dbd4c6b96f0111651eeea43",
       "version_major": 2,
       "version_minor": 0
      },
      "text/plain": [
       "generation_config.json:   0%|          | 0.00/124 [00:00<?, ?B/s]"
      ]
     },
     "metadata": {},
     "output_type": "display_data"
    },
    {
     "data": {
      "text/plain": [
       "True"
      ]
     },
     "execution_count": 8,
     "metadata": {},
     "output_type": "execute_result"
    },
    {
     "name": "stdout",
     "output_type": "stream",
     "text": [
      "csvfile /tmp/gradio/a22c5fe5805096466e4b24533c25eb8077375399/metrix.csv\n",
      "title Dataset_metrix\n",
      "2024-04-05 20:45:18,022 INFO sqlalchemy.engine.Engine BEGIN (implicit)\n",
      "2024-04-05 20:45:18,025 INFO sqlalchemy.engine.Engine SELECT max(data.dataset_version) AS max_1 \n",
      "FROM data \n",
      "WHERE data.dataset_name = ?\n",
      "2024-04-05 20:45:18,026 INFO sqlalchemy.engine.Engine [generated in 0.00389s] ('Dataset_metrix',)\n"
     ]
    },
    {
     "name": "stderr",
     "output_type": "stream",
     "text": [
      "Setting `pad_token_id` to `eos_token_id`:50256 for open-end generation.\n",
      "Setting `pad_token_id` to `eos_token_id`:50256 for open-end generation.\n",
      "Setting `pad_token_id` to `eos_token_id`:50256 for open-end generation.\n",
      "Setting `pad_token_id` to `eos_token_id`:50256 for open-end generation.\n"
     ]
    },
    {
     "name": "stdout",
     "output_type": "stream",
     "text": [
      "2024-04-05 20:46:33,539 INFO sqlalchemy.engine.Engine INSERT INTO data (model_name, timestamp, dataset_name, dataset_version, \"PPL\", \"R3\", \"R5\", \"R-L\") VALUES (?, ?, ?, ?, ?, ?, ?, ?)\n",
      "2024-04-05 20:46:33,541 INFO sqlalchemy.engine.Engine [generated in 0.00232s] ('distilgpt2', 1712349993, 'Dataset_metrix', 0, 185.80456829071045, 0.0, 0.0, 0.0)\n",
      "2024-04-05 20:46:33,620 INFO sqlalchemy.engine.Engine COMMIT\n",
      "2024-04-05 20:46:44,718 INFO sqlalchemy.engine.Engine BEGIN (implicit)\n",
      "2024-04-05 20:46:44,722 INFO sqlalchemy.engine.Engine SELECT data.id, data.model_name, data.timestamp, data.dataset_name, data.dataset_version, data.\"PPL\", data.\"R3\", data.\"R5\", data.\"R-L\" \n",
      "FROM data\n",
      "2024-04-05 20:46:44,724 INFO sqlalchemy.engine.Engine [generated in 0.00576s] ()\n"
     ]
    }
   ],
   "source": [
    "model_name = \"distilgpt2\"\n",
    "# model_name = \"gpt2\"\n",
    "# model_name = \"sberbank-ai/rugpt3small_based_on_gpt2\"\n",
    "\n",
    "\n",
    "metric_calculation_interface.load_model_(model_name)"
   ]
  },
  {
   "cell_type": "code",
   "execution_count": null,
   "id": "b14fc8a1-ef06-4c97-bf5d-9e4762553f11",
   "metadata": {},
   "outputs": [],
   "source": []
  }
 ],
 "metadata": {
  "kernelspec": {
   "display_name": "Python 3 (ipykernel)",
   "language": "python",
   "name": "python3"
  },
  "language_info": {
   "codemirror_mode": {
    "name": "ipython",
    "version": 3
   },
   "file_extension": ".py",
   "mimetype": "text/x-python",
   "name": "python",
   "nbconvert_exporter": "python",
   "pygments_lexer": "ipython3",
   "version": "3.10.13"
  }
 },
 "nbformat": 4,
 "nbformat_minor": 5
}
