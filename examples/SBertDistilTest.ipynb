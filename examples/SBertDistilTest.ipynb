{
  "nbformat": 4,
  "nbformat_minor": 0,
  "metadata": {
    "colab": {
      "provenance": []
    },
    "kernelspec": {
      "name": "python3",
      "display_name": "Python 3"
    },
    "language_info": {
      "codemirror_mode": {
          "name": "ipython",
          "version": 3
        },
        "file_extension": ".py",
        "mimetype": "text/x-python",
        "name": "python",
        "nbconvert_exporter": "python",
        "pygments_lexer": "ipython3"
    }
  },
  "cells": [
    {
      "cell_type": "code",
      "execution_count": null,
      "metadata": {
        "id": "8TE2oz8dwpQk"
      },
      "outputs": [],
      "source": [
        "!pip install -U sentence-transformers -q"
      ]
    },
    {
      "cell_type": "code",
      "source": [
        "import numpy as np\n",
        "from sentence_transformers import SentenceTransformer, util\n",
        "import matplotlib.pyplot as plt"
      ],
      "metadata": {
        "id": "P3RMRVl6w1Vz"
      },
      "execution_count": null,
      "outputs": []
    },
    {
      "cell_type": "code",
      "source": [
        "model = SentenceTransformer('FractalGPT/SbertDistil')\n",
        "\n",
        "def sim(texts_1, texts_2, model):\n",
        "  embedding_1 = model.encode(texts_1)\n",
        "  embedding_2 = model.encode(texts_2)\n",
        "  s = util.pytorch_cos_sim(embedding_1, embedding_2)\n",
        "  return s.detach().numpy()"
      ],
      "metadata": {
        "id": "Uo4OmhM2w65I"
      },
      "execution_count": null,
      "outputs": []
    },
    {
      "cell_type": "code",
      "source": [
        "%%time\n",
        "sim([\"I'm happy\",\n",
        "     \"Transistor (English transistor, an acronym invented in 1947 - from the English transfer + English resistor [1] - for a device for passing current through a resistance), semiconductor triode - an electronic component made of semiconductor material, capable of controlling a significant current into the output with a small input signal circuits, which allows it to be used to amplify, generate, switch and convert electrical signals. Currently, the transistor is the basis of the circuit design of the vast majority of electronic devices and integrated circuits.\",\n",
        "     \"That is a happy dog\",\n",
        "     \"Today is a sunny day\",\n",
        "     \"An electric vacuum triode, or simply triode, is an electronic tube that allows an input signal to control the current in an electrical circuit. It has three electrodes: a thermionic cathode (direct or indirectly heated), an anode and one control grid.\"],\n",
        "\n",
        "      [\"Я счастлив\",\n",
        "       \"Транзи́стор (англ. transistor, придуманный в 1947 году акроним — от англ. transfer + англ. resistor[1] — для устройства пропуска тока через сопротивление), полупроводнико́вый трио́д — электронный компонент из полупроводникового материала, способный небольшим входным сигналом управлять значительным током в выходной цепи, что позволяет использовать его для усиления, генерирования, коммутации и преобразования электрических сигналов. В настоящее время транзистор является основой схемотехники подавляющего большинства электронных устройств и интегральных микросхем.\",\n",
        "       \"Это счастливая собака\",\n",
        "       \"Сегодня солнечный день\",\n",
        "       \"Эле́ктрова́куумный трио́д, или просто трио́д, — электронная лампа, позволяющая входным сигналом управлять током в электрической цепи. Имеет три электрода: термоэлектронный катод (прямого или косвенного накала), анод и одну управляющую сетку.\"],\n",
        "    model)"
      ],
      "metadata": {
        "colab": {
          "base_uri": "https://localhost:8080/"
        },
        "id": "JtxoJ9sQxSbQ",
        "outputId": "a1cd472f-dbb3-4bac-de55-8389eb2f7dae"
      },
      "execution_count": null,
      "outputs": [
        {
          "output_type": "stream",
          "name": "stdout",
          "text": [
            "CPU times: user 1.07 s, sys: 103 ms, total: 1.17 s\n",
            "Wall time: 1.56 s\n"
          ]
        },
        {
          "output_type": "execute_result",
          "data": {
            "text/plain": [
              "array([[ 0.9356808 , -0.08483734,  0.5446725 ,  0.33961058,  0.03804383],\n",
              "       [-0.0807318 ,  0.9264306 , -0.04693414, -0.01100908,  0.6299803 ],\n",
              "       [ 0.57126224, -0.06281875,  0.95069736,  0.19693084,  0.02408196],\n",
              "       [ 0.34275603, -0.02775398,  0.19030362,  0.93442297,  0.10208479],\n",
              "       [ 0.00830167,  0.60781014,  0.01052915,  0.02482489,  0.8193317 ]],\n",
              "      dtype=float32)"
            ]
          },
          "metadata": {},
          "execution_count": 4
        }
      ]
    },
    {
      "cell_type": "markdown",
      "source": [
        "# Квантование"
      ],
      "metadata": {
        "id": "SpH-GFOjk193"
      }
    },
    {
      "cell_type": "code",
      "source": [
        "import torch\n",
        "from torch.quantization import quantize_dynamic"
      ],
      "metadata": {
        "id": "2Ikc4Oewk0pc"
      },
      "execution_count": null,
      "outputs": []
    },
    {
      "cell_type": "code",
      "source": [
        "q_model = quantize_dynamic(model, dtype=torch.qint8)"
      ],
      "metadata": {
        "id": "obcNIMxmlSGI"
      },
      "execution_count": null,
      "outputs": []
    },
    {
      "cell_type": "code",
      "source": [
        "%%time\n",
        "sim([\"I'm happy\",\n",
        "     \"Transistor (English transistor, an acronym invented in 1947 - from the English transfer + English resistor [1] - for a device for passing current through a resistance), semiconductor triode - an electronic component made of semiconductor material, capable of controlling a significant current into the output with a small input signal circuits, which allows it to be used to amplify, generate, switch and convert electrical signals. Currently, the transistor is the basis of the circuit design of the vast majority of electronic devices and integrated circuits.\",\n",
        "     \"That is a happy dog\",\n",
        "     \"Today is a sunny day\",\n",
        "     \"An electric vacuum triode, or simply triode, is an electronic tube that allows an input signal to control the current in an electrical circuit. It has three electrodes: a thermionic cathode (direct or indirectly heated), an anode and one control grid.\"],\n",
        "\n",
        "      [\"Я счастлив\",\n",
        "       \"Транзи́стор (англ. transistor, придуманный в 1947 году акроним — от англ. transfer + англ. resistor[1] — для устройства пропуска тока через сопротивление), полупроводнико́вый трио́д — электронный компонент из полупроводникового материала, способный небольшим входным сигналом управлять значительным током в выходной цепи, что позволяет использовать его для усиления, генерирования, коммутации и преобразования электрических сигналов. В настоящее время транзистор является основой схемотехники подавляющего большинства электронных устройств и интегральных микросхем.\",\n",
        "       \"Это счастливая собака\",\n",
        "       \"Сегодня солнечный день\",\n",
        "       \"Эле́ктрова́куумный трио́д, или просто трио́д, — электронная лампа, позволяющая входным сигналом управлять током в электрической цепи. Имеет три электрода: термоэлектронный катод (прямого или косвенного накала), анод и одну управляющую сетку.\"],\n",
        "    q_model)"
      ],
      "metadata": {
        "colab": {
          "base_uri": "https://localhost:8080/"
        },
        "id": "kZfl2HEplVFi",
        "outputId": "347879b0-9bce-45c0-e2d6-233aad8c52c1"
      },
      "execution_count": null,
      "outputs": [
        {
          "output_type": "stream",
          "name": "stdout",
          "text": [
            "CPU times: user 223 ms, sys: 53.6 ms, total: 277 ms\n",
            "Wall time: 288 ms\n"
          ]
        },
        {
          "output_type": "execute_result",
          "data": {
            "text/plain": [
              "array([[ 0.9322399 , -0.07797205,  0.5775447 ,  0.3306411 ,  0.03219337],\n",
              "       [-0.06639045,  0.9187122 , -0.0334729 , -0.01802498,  0.65242034],\n",
              "       [ 0.5770185 , -0.0677453 ,  0.943252  ,  0.18549685,  0.01341316],\n",
              "       [ 0.3474261 , -0.03043822,  0.2085383 ,  0.9331812 ,  0.09235801],\n",
              "       [ 0.01616804,  0.6128439 ,  0.01168758,  0.02674857,  0.82864726]],\n",
              "      dtype=float32)"
            ]
          },
          "metadata": {},
          "execution_count": 7
        }
      ]
    },
    {
      "cell_type": "markdown",
      "source": [
        "# Без последнего слоя"
      ],
      "metadata": {
        "id": "t1oQVI9Yokzw"
      }
    },
    {
      "cell_type": "code",
      "source": [
        "sbert_312 = SentenceTransformer(modules=[model[0], model[1]])\n",
        "sbert_312.encode('1').shape"
      ],
      "metadata": {
        "colab": {
          "base_uri": "https://localhost:8080/"
        },
        "id": "MftEof67op0u",
        "outputId": "9abfa350-794d-474f-9dbc-60924d2d804c"
      },
      "execution_count": null,
      "outputs": [
        {
          "output_type": "execute_result",
          "data": {
            "text/plain": [
              "(312,)"
            ]
          },
          "metadata": {},
          "execution_count": 8
        }
      ]
    },
    {
      "cell_type": "code",
      "source": [
        "%%time\n",
        "sim([\"I'm happy\",\n",
        "     \"Transistor (English transistor, an acronym invented in 1947 - from the English transfer + English resistor [1] - for a device for passing current through a resistance), semiconductor triode - an electronic component made of semiconductor material, capable of controlling a significant current into the output with a small input signal circuits, which allows it to be used to amplify, generate, switch and convert electrical signals. Currently, the transistor is the basis of the circuit design of the vast majority of electronic devices and integrated circuits.\",\n",
        "     \"That is a happy dog\",\n",
        "     \"Today is a sunny day\",\n",
        "     \"An electric vacuum triode, or simply triode, is an electronic tube that allows an input signal to control the current in an electrical circuit. It has three electrodes: a thermionic cathode (direct or indirectly heated), an anode and one control grid.\"],\n",
        "\n",
        "      [\"Я счастлив\",\n",
        "       \"Транзи́стор (англ. transistor, придуманный в 1947 году акроним — от англ. transfer + англ. resistor[1] — для устройства пропуска тока через сопротивление), полупроводнико́вый трио́д — электронный компонент из полупроводникового материала, способный небольшим входным сигналом управлять значительным током в выходной цепи, что позволяет использовать его для усиления, генерирования, коммутации и преобразования электрических сигналов. В настоящее время транзистор является основой схемотехники подавляющего большинства электронных устройств и интегральных микросхем.\",\n",
        "       \"Это счастливая собака\",\n",
        "       \"Сегодня солнечный день\",\n",
        "       \"Электрова́куумный триод, или просто триод, — электронная лампа, позволяющая входным сигналом управлять током в электрической цепи. Имеет три электрода: термоэлектронный катод (прямого или косвенного накала), анод и одну управляющую сетку.\"],\n",
        "    sbert_312)"
      ],
      "metadata": {
        "colab": {
          "base_uri": "https://localhost:8080/"
        },
        "id": "qB_kVFNtpSeC",
        "outputId": "0a4f1169-fffc-4d37-a87c-7ec27a9f61ca"
      },
      "execution_count": null,
      "outputs": [
        {
          "output_type": "stream",
          "name": "stdout",
          "text": [
            "CPU times: user 201 ms, sys: 20.3 ms, total: 221 ms\n",
            "Wall time: 220 ms\n"
          ]
        },
        {
          "output_type": "execute_result",
          "data": {
            "text/plain": [
              "array([[0.92399263, 0.09464699, 0.5830615 , 0.36219156, 0.15003237],\n",
              "       [0.16273737, 0.9398852 , 0.19445206, 0.19710752, 0.71800154],\n",
              "       [0.6126568 , 0.13686267, 0.93911123, 0.274111  , 0.17642163],\n",
              "       [0.4085656 , 0.17336142, 0.32277697, 0.9333786 , 0.24808316],\n",
              "       [0.19213831, 0.7020618 , 0.22540231, 0.21804126, 0.8712435 ]],\n",
              "      dtype=float32)"
            ]
          },
          "metadata": {},
          "execution_count": 9
        }
      ]
    },
    {
      "cell_type": "code",
      "source": [
        "text = 'kittens love milk'\n",
        "output_vector_312 = sbert_312.encode(text)\n",
        "output_vector = model.encode(text)\n",
        "plt.hist(output_vector_312, bins=12, density=True, label=\"Bert model with pooling (312)\", histtype=\"step\", color='black')\n",
        "plt.hist(output_vector, bins=12, density=True, label=\"SBert (with Dense) model (384)\", histtype=\"step\", color='r')\n",
        "plt.grid()\n",
        "plt.title(\"Probability density of output\")\n",
        "plt.xlabel(\"Value\")\n",
        "plt.ylabel(\"Probability density\")\n",
        "plt.legend()"
      ],
      "metadata": {
        "colab": {
          "base_uri": "https://localhost:8080/",
          "height": 489
        },
        "id": "B6wsJaIBkkV1",
        "outputId": "16e3ac87-04a6-41ff-d0e9-23e33f0b02bd"
      },
      "execution_count": null,
      "outputs": [
        {
          "output_type": "execute_result",
          "data": {
            "text/plain": [
              "<matplotlib.legend.Legend at 0x7debb4dcf8b0>"
            ]
          },
          "metadata": {},
          "execution_count": 11
        },
        {
          "output_type": "display_data",
          "data": {
            "text/plain": [
              "<Figure size 640x480 with 1 Axes>"
            ],
            "image/png": "[encoded data removed]"
          },
          "metadata": {}
        }
      ]
    },
    {
      "cell_type": "code",
      "source": [
        "q_sbert_312 = quantize_dynamic(sbert_312, dtype=torch.qint8)"
      ],
      "metadata": {
        "id": "Ud_tprY8pje_"
      },
      "execution_count": null,
      "outputs": []
    },
    {
      "cell_type": "code",
      "source": [
        "%%time\n",
        "sim([\"I'm happy\",\n",
        "     \"Transistor (English transistor, an acronym invented in 1947 - from the English transfer + English resistor [1] - for a device for passing current through a resistance), semiconductor triode - an electronic component made of semiconductor material, capable of controlling a significant current into the output with a small input signal circuits, which allows it to be used to amplify, generate, switch and convert electrical signals. Currently, the transistor is the basis of the circuit design of the vast majority of electronic devices and integrated circuits.\",\n",
        "     \"That is a happy dog\",\n",
        "     \"Today is a sunny day\",\n",
        "     \"An electric vacuum triode, or simply triode, is an electronic tube that allows an input signal to control the current in an electrical circuit. It has three electrodes: a thermionic cathode (direct or indirectly heated), an anode and one control grid.\"],\n",
        "\n",
        "      [\"Я счастлив\",\n",
        "       \"Транзи́стор (англ. transistor, придуманный в 1947 году акроним — от англ. transfer + англ. resistor[1] — для устройства пропуска тока через сопротивление), полупроводнико́вый трио́д — электронный компонент из полупроводникового материала, способный небольшим входным сигналом управлять значительным током в выходной цепи, что позволяет использовать его для усиления, генерирования, коммутации и преобразования электрических сигналов. В настоящее время транзистор является основой схемотехники подавляющего большинства электронных устройств и интегральных микросхем.\",\n",
        "       \"Это счастливая собака\",\n",
        "       \"Сегодня солнечный день\",\n",
        "       \"Эле́ктрова́куумный трио́д, или просто трио́д, — электронная лампа, позволяющая входным сигналом управлять током в электрической цепи. Имеет три электрода: термоэлектронный катод (прямого или косвенного накала), анод и одну управляющую сетку.\"],\n",
        "    q_sbert_312)"
      ],
      "metadata": {
        "colab": {
          "base_uri": "https://localhost:8080/"
        },
        "id": "o8uLyoWeqAJ4",
        "outputId": "4c79ad96-1e90-4d6e-da68-43ddd584578f"
      },
      "execution_count": null,
      "outputs": [
        {
          "output_type": "stream",
          "name": "stdout",
          "text": [
            "CPU times: user 168 ms, sys: 58.6 ms, total: 227 ms\n",
            "Wall time: 229 ms\n"
          ]
        },
        {
          "output_type": "execute_result",
          "data": {
            "text/plain": [
              "array([[0.921951  , 0.10099488, 0.61987734, 0.35365546, 0.15051778],\n",
              "       [0.17470877, 0.9333505 , 0.20475903, 0.1835869 , 0.7341265 ],\n",
              "       [0.62123764, 0.13241553, 0.9342488 , 0.26656133, 0.16878857],\n",
              "       [0.41769016, 0.1843313 , 0.34682828, 0.9355198 , 0.25850064],\n",
              "       [0.19462524, 0.6999668 , 0.21988304, 0.20481321, 0.874306  ]],\n",
              "      dtype=float32)"
            ]
          },
          "metadata": {},
          "execution_count": 13
        }
      ]
    }
  ]
}
